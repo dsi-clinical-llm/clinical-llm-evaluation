{
  "nbformat": 4,
  "nbformat_minor": 0,
  "metadata": {
    "colab": {
      "provenance": []
    },
    "kernelspec": {
      "name": "python3",
      "display_name": "Python 3"
    },
    "language_info": {
      "name": "python"
    }
  },
  "cells": [
    {
      "cell_type": "code",
      "execution_count": null,
      "metadata": {
        "id": "TFdLmCYTVSqi"
      },
      "outputs": [],
      "source": [
        "import pandas as pd\n",
        "import matplotlib.pyplot as plt\n",
        "import seaborn as sns"
      ]
    },
    {
      "cell_type": "code",
      "source": [
        "# Function to process each line and extract title and abstract\n",
        "def process_line(line):\n",
        "    parts = line.split('|')\n",
        "    if len(parts) != 3:\n",
        "        return None\n",
        "    identifier, type, content = parts\n",
        "    return type, content\n"
      ],
      "metadata": {
        "id": "YHOEht1XgNb9"
      },
      "execution_count": null,
      "outputs": []
    },
    {
      "cell_type": "code",
      "source": [
        "# Reading the file and processing each line\n",
        "file_path = 'NCBItestset_corpus.txt'\n",
        "\n",
        "with open(file_path, 'r') as file:\n",
        "    lines = file.readlines()"
      ],
      "metadata": {
        "id": "cFaCAm4xgS0U"
      },
      "execution_count": null,
      "outputs": []
    },
    {
      "cell_type": "code",
      "source": [
        "# Creating a dictionary to hold titles, abstracts, and abstract numbers\n",
        "data = {'Title': [], 'Abstract': [], 'Abstract Number': []}\n",
        "current_title = ''\n",
        "abstract_number = 1  # Starting from 1\n",
        "\n",
        "for line in lines:\n",
        "    result = process_line(line)\n",
        "    if result:\n",
        "        type, content = result\n",
        "        if type == 't':\n",
        "            current_title = content\n",
        "        elif type == 'a':\n",
        "            data['Title'].append(current_title)\n",
        "            data['Abstract'].append(content)\n",
        "            data['Abstract Number'].append(abstract_number)\n",
        "            abstract_number += 1  # Incrementing the abstract number for each new entry"
      ],
      "metadata": {
        "id": "enSPaB46ibgq"
      },
      "execution_count": null,
      "outputs": []
    },
    {
      "cell_type": "code",
      "source": [
        "# Creating a DataFrame\n",
        "df1 = pd.DataFrame(data)"
      ],
      "metadata": {
        "id": "p44zewqTif8q"
      },
      "execution_count": null,
      "outputs": []
    },
    {
      "cell_type": "code",
      "source": [
        "def process_file_for_tables_with_abstract_number(file_path):\n",
        "    with open(file_path, 'r') as file:\n",
        "        lines = file.readlines()\n",
        "\n",
        "    # Data structure to hold tabular data and abstract numbers\n",
        "    table_data = []\n",
        "    abstract_number = 0  # Start from abstract 1\n",
        "    in_table = False  # Flag to indicate if we're in the tabular data section\n",
        "\n",
        "    for line in lines:\n",
        "        if '|t|' in line:\n",
        "            in_table = False  # Reset flag when a new title is encountered\n",
        "            abstract_number += 1  # Increment abstract number for each new title\n",
        "        elif '|a|' in line:\n",
        "            in_table = True  # Set flag when an abstract starts\n",
        "        elif in_table and '|' not in line and line.strip():\n",
        "            # Process tabular data line\n",
        "            table_row = line.strip().split('\\t')\n",
        "            if len(table_row) > 1:  # Ensure the line is part of the table\n",
        "                table_row.append(abstract_number)  # Add abstract number to the row\n",
        "                table_data.append(table_row)\n",
        "\n",
        "    # Creating a DataFrame from the extracted tabular data\n",
        "    df_tables = pd.DataFrame(table_data, columns=[*range(len(table_data[0])-1), 'Abstract Number'])\n",
        "\n",
        "    return df_tables\n",
        "\n",
        "# Process the file and create a DataFrame of tables with abstract numbers\n",
        "df_tables = process_file_for_tables_with_abstract_number(file_path)\n"
      ],
      "metadata": {
        "id": "kI-kLGlIsPgt"
      },
      "execution_count": null,
      "outputs": []
    },
    {
      "cell_type": "code",
      "source": [
        "# Correcting the column names as per the new specifications\n",
        "df_tables.rename(columns={3: 'Entity_name', 4: 'Entity_class', 5: 'Mesh_info'}, inplace=True)\n"
      ],
      "metadata": {
        "id": "soF6zs7Q17Xo"
      },
      "execution_count": null,
      "outputs": []
    },
    {
      "cell_type": "code",
      "source": [
        "df = df_tables"
      ],
      "metadata": {
        "id": "JD5ARkEi_2K7"
      },
      "execution_count": null,
      "outputs": []
    },
    {
      "cell_type": "code",
      "source": [
        "df.to_excel('NER_answers.xlsx', index=False)"
      ],
      "metadata": {
        "id": "7jwQ9Zep5QIg"
      },
      "execution_count": null,
      "outputs": []
    }
  ]
}