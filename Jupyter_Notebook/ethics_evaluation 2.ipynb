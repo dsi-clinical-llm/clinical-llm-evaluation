{
  "nbformat": 4,
  "nbformat_minor": 0,
  "metadata": {
    "colab": {
      "provenance": []
    },
    "kernelspec": {
      "name": "python3",
      "display_name": "Python 3"
    },
    "language_info": {
      "name": "python"
    }
  },
  "cells": [
    {
      "cell_type": "code",
      "source": [
        "### Preparation of packages\n",
        "\n",
        "!pip install selfcheckgpt\n",
        "!pip install -U spacy\n",
        "!pip install scispacy\n",
        "!pip install https://s3-us-west-2.amazonaws.com/ai2-s2-scispacy/releases/v0.5.3/en_core_sci_lg-0.5.3.tar.gz\n"
      ],
      "metadata": {
        "colab": {
          "base_uri": "https://localhost:8080/",
          "height": 1000
        },
        "id": "Aufl8fxy8wP-",
        "outputId": "701c7fea-f85a-4a49-91af-1515284ab8a7"
      },
      "execution_count": null,
      "outputs": [
        {
          "output_type": "stream",
          "name": "stdout",
          "text": [
            "Collecting selfcheckgpt\n",
            "  Downloading selfcheckgpt-0.1.4.tar.gz (14 kB)\n",
            "  Preparing metadata (setup.py) ... \u001b[?25l\u001b[?25hdone\n",
            "Requirement already satisfied: transformers>=4.11.3 in /usr/local/lib/python3.10/dist-packages (from selfcheckgpt) (4.35.2)\n",
            "Requirement already satisfied: torch>=1.10 in /usr/local/lib/python3.10/dist-packages (from selfcheckgpt) (2.1.0+cu118)\n",
            "Requirement already satisfied: numpy in /usr/local/lib/python3.10/dist-packages (from selfcheckgpt) (1.23.5)\n",
            "Collecting bert_score (from selfcheckgpt)\n",
            "  Downloading bert_score-0.3.13-py3-none-any.whl (61 kB)\n",
            "\u001b[2K     \u001b[90m━━━━━━━━━━━━━━━━━━━━━━━━━━━━━━━━━━━━━━━━\u001b[0m \u001b[32m61.1/61.1 kB\u001b[0m \u001b[31m2.1 MB/s\u001b[0m eta \u001b[36m0:00:00\u001b[0m\n",
            "\u001b[?25hRequirement already satisfied: spacy in /usr/local/lib/python3.10/dist-packages (from selfcheckgpt) (3.6.1)\n",
            "Requirement already satisfied: nltk in /usr/local/lib/python3.10/dist-packages (from selfcheckgpt) (3.8.1)\n",
            "Requirement already satisfied: filelock in /usr/local/lib/python3.10/dist-packages (from torch>=1.10->selfcheckgpt) (3.13.1)\n",
            "Requirement already satisfied: typing-extensions in /usr/local/lib/python3.10/dist-packages (from torch>=1.10->selfcheckgpt) (4.5.0)\n",
            "Requirement already satisfied: sympy in /usr/local/lib/python3.10/dist-packages (from torch>=1.10->selfcheckgpt) (1.12)\n",
            "Requirement already satisfied: networkx in /usr/local/lib/python3.10/dist-packages (from torch>=1.10->selfcheckgpt) (3.2.1)\n",
            "Requirement already satisfied: jinja2 in /usr/local/lib/python3.10/dist-packages (from torch>=1.10->selfcheckgpt) (3.1.2)\n",
            "Requirement already satisfied: fsspec in /usr/local/lib/python3.10/dist-packages (from torch>=1.10->selfcheckgpt) (2023.6.0)\n",
            "Requirement already satisfied: triton==2.1.0 in /usr/local/lib/python3.10/dist-packages (from torch>=1.10->selfcheckgpt) (2.1.0)\n",
            "Requirement already satisfied: huggingface-hub<1.0,>=0.16.4 in /usr/local/lib/python3.10/dist-packages (from transformers>=4.11.3->selfcheckgpt) (0.19.4)\n",
            "Requirement already satisfied: packaging>=20.0 in /usr/local/lib/python3.10/dist-packages (from transformers>=4.11.3->selfcheckgpt) (23.2)\n",
            "Requirement already satisfied: pyyaml>=5.1 in /usr/local/lib/python3.10/dist-packages (from transformers>=4.11.3->selfcheckgpt) (6.0.1)\n",
            "Requirement already satisfied: regex!=2019.12.17 in /usr/local/lib/python3.10/dist-packages (from transformers>=4.11.3->selfcheckgpt) (2023.6.3)\n",
            "Requirement already satisfied: requests in /usr/local/lib/python3.10/dist-packages (from transformers>=4.11.3->selfcheckgpt) (2.31.0)\n",
            "Requirement already satisfied: tokenizers<0.19,>=0.14 in /usr/local/lib/python3.10/dist-packages (from transformers>=4.11.3->selfcheckgpt) (0.15.0)\n",
            "Requirement already satisfied: safetensors>=0.3.1 in /usr/local/lib/python3.10/dist-packages (from transformers>=4.11.3->selfcheckgpt) (0.4.1)\n",
            "Requirement already satisfied: tqdm>=4.27 in /usr/local/lib/python3.10/dist-packages (from transformers>=4.11.3->selfcheckgpt) (4.66.1)\n",
            "Requirement already satisfied: pandas>=1.0.1 in /usr/local/lib/python3.10/dist-packages (from bert_score->selfcheckgpt) (1.5.3)\n",
            "Requirement already satisfied: matplotlib in /usr/local/lib/python3.10/dist-packages (from bert_score->selfcheckgpt) (3.7.1)\n",
            "Requirement already satisfied: click in /usr/local/lib/python3.10/dist-packages (from nltk->selfcheckgpt) (8.1.7)\n",
            "Requirement already satisfied: joblib in /usr/local/lib/python3.10/dist-packages (from nltk->selfcheckgpt) (1.3.2)\n",
            "Requirement already satisfied: spacy-legacy<3.1.0,>=3.0.11 in /usr/local/lib/python3.10/dist-packages (from spacy->selfcheckgpt) (3.0.12)\n",
            "Requirement already satisfied: spacy-loggers<2.0.0,>=1.0.0 in /usr/local/lib/python3.10/dist-packages (from spacy->selfcheckgpt) (1.0.5)\n",
            "Requirement already satisfied: murmurhash<1.1.0,>=0.28.0 in /usr/local/lib/python3.10/dist-packages (from spacy->selfcheckgpt) (1.0.10)\n",
            "Requirement already satisfied: cymem<2.1.0,>=2.0.2 in /usr/local/lib/python3.10/dist-packages (from spacy->selfcheckgpt) (2.0.8)\n",
            "Requirement already satisfied: preshed<3.1.0,>=3.0.2 in /usr/local/lib/python3.10/dist-packages (from spacy->selfcheckgpt) (3.0.9)\n",
            "Requirement already satisfied: thinc<8.2.0,>=8.1.8 in /usr/local/lib/python3.10/dist-packages (from spacy->selfcheckgpt) (8.1.12)\n",
            "Requirement already satisfied: wasabi<1.2.0,>=0.9.1 in /usr/local/lib/python3.10/dist-packages (from spacy->selfcheckgpt) (1.1.2)\n",
            "Requirement already satisfied: srsly<3.0.0,>=2.4.3 in /usr/local/lib/python3.10/dist-packages (from spacy->selfcheckgpt) (2.4.8)\n",
            "Requirement already satisfied: catalogue<2.1.0,>=2.0.6 in /usr/local/lib/python3.10/dist-packages (from spacy->selfcheckgpt) (2.0.10)\n",
            "Requirement already satisfied: typer<0.10.0,>=0.3.0 in /usr/local/lib/python3.10/dist-packages (from spacy->selfcheckgpt) (0.9.0)\n",
            "Requirement already satisfied: pathy>=0.10.0 in /usr/local/lib/python3.10/dist-packages (from spacy->selfcheckgpt) (0.10.3)\n",
            "Requirement already satisfied: smart-open<7.0.0,>=5.2.1 in /usr/local/lib/python3.10/dist-packages (from spacy->selfcheckgpt) (6.4.0)\n",
            "Requirement already satisfied: pydantic!=1.8,!=1.8.1,<3.0.0,>=1.7.4 in /usr/local/lib/python3.10/dist-packages (from spacy->selfcheckgpt) (1.10.13)\n",
            "Requirement already satisfied: setuptools in /usr/local/lib/python3.10/dist-packages (from spacy->selfcheckgpt) (67.7.2)\n",
            "Requirement already satisfied: langcodes<4.0.0,>=3.2.0 in /usr/local/lib/python3.10/dist-packages (from spacy->selfcheckgpt) (3.3.0)\n",
            "Requirement already satisfied: python-dateutil>=2.8.1 in /usr/local/lib/python3.10/dist-packages (from pandas>=1.0.1->bert_score->selfcheckgpt) (2.8.2)\n",
            "Requirement already satisfied: pytz>=2020.1 in /usr/local/lib/python3.10/dist-packages (from pandas>=1.0.1->bert_score->selfcheckgpt) (2023.3.post1)\n",
            "Requirement already satisfied: charset-normalizer<4,>=2 in /usr/local/lib/python3.10/dist-packages (from requests->transformers>=4.11.3->selfcheckgpt) (3.3.2)\n",
            "Requirement already satisfied: idna<4,>=2.5 in /usr/local/lib/python3.10/dist-packages (from requests->transformers>=4.11.3->selfcheckgpt) (3.6)\n",
            "Requirement already satisfied: urllib3<3,>=1.21.1 in /usr/local/lib/python3.10/dist-packages (from requests->transformers>=4.11.3->selfcheckgpt) (2.0.7)\n",
            "Requirement already satisfied: certifi>=2017.4.17 in /usr/local/lib/python3.10/dist-packages (from requests->transformers>=4.11.3->selfcheckgpt) (2023.11.17)\n",
            "Requirement already satisfied: blis<0.8.0,>=0.7.8 in /usr/local/lib/python3.10/dist-packages (from thinc<8.2.0,>=8.1.8->spacy->selfcheckgpt) (0.7.11)\n",
            "Requirement already satisfied: confection<1.0.0,>=0.0.1 in /usr/local/lib/python3.10/dist-packages (from thinc<8.2.0,>=8.1.8->spacy->selfcheckgpt) (0.1.4)\n",
            "Requirement already satisfied: MarkupSafe>=2.0 in /usr/local/lib/python3.10/dist-packages (from jinja2->torch>=1.10->selfcheckgpt) (2.1.3)\n",
            "Requirement already satisfied: contourpy>=1.0.1 in /usr/local/lib/python3.10/dist-packages (from matplotlib->bert_score->selfcheckgpt) (1.2.0)\n",
            "Requirement already satisfied: cycler>=0.10 in /usr/local/lib/python3.10/dist-packages (from matplotlib->bert_score->selfcheckgpt) (0.12.1)\n",
            "Requirement already satisfied: fonttools>=4.22.0 in /usr/local/lib/python3.10/dist-packages (from matplotlib->bert_score->selfcheckgpt) (4.45.1)\n",
            "Requirement already satisfied: kiwisolver>=1.0.1 in /usr/local/lib/python3.10/dist-packages (from matplotlib->bert_score->selfcheckgpt) (1.4.5)\n",
            "Requirement already satisfied: pillow>=6.2.0 in /usr/local/lib/python3.10/dist-packages (from matplotlib->bert_score->selfcheckgpt) (9.4.0)\n",
            "Requirement already satisfied: pyparsing>=2.3.1 in /usr/local/lib/python3.10/dist-packages (from matplotlib->bert_score->selfcheckgpt) (3.1.1)\n",
            "Requirement already satisfied: mpmath>=0.19 in /usr/local/lib/python3.10/dist-packages (from sympy->torch>=1.10->selfcheckgpt) (1.3.0)\n",
            "Requirement already satisfied: six>=1.5 in /usr/local/lib/python3.10/dist-packages (from python-dateutil>=2.8.1->pandas>=1.0.1->bert_score->selfcheckgpt) (1.16.0)\n",
            "Building wheels for collected packages: selfcheckgpt\n",
            "  Building wheel for selfcheckgpt (setup.py) ... \u001b[?25l\u001b[?25hdone\n",
            "  Created wheel for selfcheckgpt: filename=selfcheckgpt-0.1.4-py3-none-any.whl size=12240 sha256=68c703d857f9ac809e1e519fbc6a31b4e7de5b2cdf123bf823ab444d040d5ddf\n",
            "  Stored in directory: /root/.cache/pip/wheels/dc/a6/76/107247d4924cb23f6e1b1987413b2a191979767e1e2c1d5751\n",
            "Successfully built selfcheckgpt\n",
            "Installing collected packages: bert_score, selfcheckgpt\n",
            "Successfully installed bert_score-0.3.13 selfcheckgpt-0.1.4\n",
            "Requirement already satisfied: spacy in /usr/local/lib/python3.10/dist-packages (3.6.1)\n",
            "Collecting spacy\n",
            "  Downloading spacy-3.7.2-cp310-cp310-manylinux_2_17_x86_64.manylinux2014_x86_64.whl (6.6 MB)\n",
            "\u001b[2K     \u001b[90m━━━━━━━━━━━━━━━━━━━━━━━━━━━━━━━━━━━━━━━━\u001b[0m \u001b[32m6.6/6.6 MB\u001b[0m \u001b[31m43.7 MB/s\u001b[0m eta \u001b[36m0:00:00\u001b[0m\n",
            "\u001b[?25hRequirement already satisfied: spacy-legacy<3.1.0,>=3.0.11 in /usr/local/lib/python3.10/dist-packages (from spacy) (3.0.12)\n",
            "Requirement already satisfied: spacy-loggers<2.0.0,>=1.0.0 in /usr/local/lib/python3.10/dist-packages (from spacy) (1.0.5)\n",
            "Requirement already satisfied: murmurhash<1.1.0,>=0.28.0 in /usr/local/lib/python3.10/dist-packages (from spacy) (1.0.10)\n",
            "Requirement already satisfied: cymem<2.1.0,>=2.0.2 in /usr/local/lib/python3.10/dist-packages (from spacy) (2.0.8)\n",
            "Requirement already satisfied: preshed<3.1.0,>=3.0.2 in /usr/local/lib/python3.10/dist-packages (from spacy) (3.0.9)\n",
            "Requirement already satisfied: thinc<8.3.0,>=8.1.8 in /usr/local/lib/python3.10/dist-packages (from spacy) (8.1.12)\n",
            "Requirement already satisfied: wasabi<1.2.0,>=0.9.1 in /usr/local/lib/python3.10/dist-packages (from spacy) (1.1.2)\n",
            "Requirement already satisfied: srsly<3.0.0,>=2.4.3 in /usr/local/lib/python3.10/dist-packages (from spacy) (2.4.8)\n",
            "Requirement already satisfied: catalogue<2.1.0,>=2.0.6 in /usr/local/lib/python3.10/dist-packages (from spacy) (2.0.10)\n",
            "Collecting weasel<0.4.0,>=0.1.0 (from spacy)\n",
            "  Downloading weasel-0.3.4-py3-none-any.whl (50 kB)\n",
            "\u001b[2K     \u001b[90m━━━━━━━━━━━━━━━━━━━━━━━━━━━━━━━━━━━━━━━━\u001b[0m \u001b[32m50.1/50.1 kB\u001b[0m \u001b[31m4.6 MB/s\u001b[0m eta \u001b[36m0:00:00\u001b[0m\n",
            "\u001b[?25hRequirement already satisfied: typer<0.10.0,>=0.3.0 in /usr/local/lib/python3.10/dist-packages (from spacy) (0.9.0)\n",
            "Requirement already satisfied: smart-open<7.0.0,>=5.2.1 in /usr/local/lib/python3.10/dist-packages (from spacy) (6.4.0)\n",
            "Requirement already satisfied: tqdm<5.0.0,>=4.38.0 in /usr/local/lib/python3.10/dist-packages (from spacy) (4.66.1)\n",
            "Requirement already satisfied: requests<3.0.0,>=2.13.0 in /usr/local/lib/python3.10/dist-packages (from spacy) (2.31.0)\n",
            "Requirement already satisfied: pydantic!=1.8,!=1.8.1,<3.0.0,>=1.7.4 in /usr/local/lib/python3.10/dist-packages (from spacy) (1.10.13)\n",
            "Requirement already satisfied: jinja2 in /usr/local/lib/python3.10/dist-packages (from spacy) (3.1.2)\n",
            "Requirement already satisfied: setuptools in /usr/local/lib/python3.10/dist-packages (from spacy) (67.7.2)\n",
            "Requirement already satisfied: packaging>=20.0 in /usr/local/lib/python3.10/dist-packages (from spacy) (23.2)\n",
            "Requirement already satisfied: langcodes<4.0.0,>=3.2.0 in /usr/local/lib/python3.10/dist-packages (from spacy) (3.3.0)\n",
            "Requirement already satisfied: numpy>=1.19.0 in /usr/local/lib/python3.10/dist-packages (from spacy) (1.23.5)\n",
            "Requirement already satisfied: typing-extensions>=4.2.0 in /usr/local/lib/python3.10/dist-packages (from pydantic!=1.8,!=1.8.1,<3.0.0,>=1.7.4->spacy) (4.5.0)\n",
            "Requirement already satisfied: charset-normalizer<4,>=2 in /usr/local/lib/python3.10/dist-packages (from requests<3.0.0,>=2.13.0->spacy) (3.3.2)\n",
            "Requirement already satisfied: idna<4,>=2.5 in /usr/local/lib/python3.10/dist-packages (from requests<3.0.0,>=2.13.0->spacy) (3.6)\n",
            "Requirement already satisfied: urllib3<3,>=1.21.1 in /usr/local/lib/python3.10/dist-packages (from requests<3.0.0,>=2.13.0->spacy) (2.0.7)\n",
            "Requirement already satisfied: certifi>=2017.4.17 in /usr/local/lib/python3.10/dist-packages (from requests<3.0.0,>=2.13.0->spacy) (2023.11.17)\n",
            "Requirement already satisfied: blis<0.8.0,>=0.7.8 in /usr/local/lib/python3.10/dist-packages (from thinc<8.3.0,>=8.1.8->spacy) (0.7.11)\n",
            "Requirement already satisfied: confection<1.0.0,>=0.0.1 in /usr/local/lib/python3.10/dist-packages (from thinc<8.3.0,>=8.1.8->spacy) (0.1.4)\n",
            "Requirement already satisfied: click<9.0.0,>=7.1.1 in /usr/local/lib/python3.10/dist-packages (from typer<0.10.0,>=0.3.0->spacy) (8.1.7)\n",
            "Collecting cloudpathlib<0.17.0,>=0.7.0 (from weasel<0.4.0,>=0.1.0->spacy)\n",
            "  Downloading cloudpathlib-0.16.0-py3-none-any.whl (45 kB)\n",
            "\u001b[2K     \u001b[90m━━━━━━━━━━━━━━━━━━━━━━━━━━━━━━━━━━━━━━━━\u001b[0m \u001b[32m45.0/45.0 kB\u001b[0m \u001b[31m4.1 MB/s\u001b[0m eta \u001b[36m0:00:00\u001b[0m\n",
            "\u001b[?25hRequirement already satisfied: MarkupSafe>=2.0 in /usr/local/lib/python3.10/dist-packages (from jinja2->spacy) (2.1.3)\n",
            "Installing collected packages: cloudpathlib, weasel, spacy\n",
            "  Attempting uninstall: spacy\n",
            "    Found existing installation: spacy 3.6.1\n",
            "    Uninstalling spacy-3.6.1:\n",
            "      Successfully uninstalled spacy-3.6.1\n",
            "\u001b[31mERROR: pip's dependency resolver does not currently take into account all the packages that are installed. This behaviour is the source of the following dependency conflicts.\n",
            "en-core-web-sm 3.6.0 requires spacy<3.7.0,>=3.6.0, but you have spacy 3.7.2 which is incompatible.\u001b[0m\u001b[31m\n",
            "\u001b[0mSuccessfully installed cloudpathlib-0.16.0 spacy-3.7.2 weasel-0.3.4\n"
          ]
        },
        {
          "output_type": "display_data",
          "data": {
            "application/vnd.colab-display-data+json": {
              "pip_warning": {
                "packages": [
                  "spacy"
                ]
              }
            }
          },
          "metadata": {}
        },
        {
          "output_type": "stream",
          "name": "stdout",
          "text": [
            "Collecting scispacy\n",
            "  Downloading scispacy-0.5.3-py3-none-any.whl (45 kB)\n",
            "\u001b[2K     \u001b[90m━━━━━━━━━━━━━━━━━━━━━━━━━━━━━━━━━━━━━━━━\u001b[0m \u001b[32m45.3/45.3 kB\u001b[0m \u001b[31m932.4 kB/s\u001b[0m eta \u001b[36m0:00:00\u001b[0m\n",
            "\u001b[?25hCollecting spacy<3.7.0,>=3.6.0 (from scispacy)\n",
            "  Downloading spacy-3.6.1-cp310-cp310-manylinux_2_17_x86_64.manylinux2014_x86_64.whl (6.6 MB)\n",
            "\u001b[2K     \u001b[90m━━━━━━━━━━━━━━━━━━━━━━━━━━━━━━━━━━━━━━━━\u001b[0m \u001b[32m6.6/6.6 MB\u001b[0m \u001b[31m16.3 MB/s\u001b[0m eta \u001b[36m0:00:00\u001b[0m\n",
            "\u001b[?25hCollecting scipy<1.11 (from scispacy)\n",
            "  Downloading scipy-1.10.1-cp310-cp310-manylinux_2_17_x86_64.manylinux2014_x86_64.whl (34.4 MB)\n",
            "\u001b[2K     \u001b[90m━━━━━━━━━━━━━━━━━━━━━━━━━━━━━━━━━━━━━━━━\u001b[0m \u001b[32m34.4/34.4 MB\u001b[0m \u001b[31m32.1 MB/s\u001b[0m eta \u001b[36m0:00:00\u001b[0m\n",
            "\u001b[?25hRequirement already satisfied: requests<3.0.0,>=2.0.0 in /usr/local/lib/python3.10/dist-packages (from scispacy) (2.31.0)\n",
            "Collecting conllu (from scispacy)\n",
            "  Downloading conllu-4.5.3-py2.py3-none-any.whl (16 kB)\n",
            "Requirement already satisfied: numpy in /usr/local/lib/python3.10/dist-packages (from scispacy) (1.23.5)\n",
            "Requirement already satisfied: joblib in /usr/local/lib/python3.10/dist-packages (from scispacy) (1.3.2)\n",
            "Collecting nmslib>=1.7.3.6 (from scispacy)\n",
            "  Downloading nmslib-2.1.1.tar.gz (188 kB)\n",
            "\u001b[2K     \u001b[90m━━━━━━━━━━━━━━━━━━━━━━━━━━━━━━━━━━━━━━━━\u001b[0m \u001b[32m188.7/188.7 kB\u001b[0m \u001b[31m16.2 MB/s\u001b[0m eta \u001b[36m0:00:00\u001b[0m\n",
            "\u001b[?25h  Preparing metadata (setup.py) ... \u001b[?25l\u001b[?25hdone\n",
            "Requirement already satisfied: scikit-learn>=0.20.3 in /usr/local/lib/python3.10/dist-packages (from scispacy) (1.2.2)\n",
            "Collecting pysbd (from scispacy)\n",
            "  Downloading pysbd-0.3.4-py3-none-any.whl (71 kB)\n",
            "\u001b[2K     \u001b[90m━━━━━━━━━━━━━━━━━━━━━━━━━━━━━━━━━━━━━━━━\u001b[0m \u001b[32m71.1/71.1 kB\u001b[0m \u001b[31m7.9 MB/s\u001b[0m eta \u001b[36m0:00:00\u001b[0m\n",
            "\u001b[?25hCollecting pybind11<2.6.2 (from nmslib>=1.7.3.6->scispacy)\n",
            "  Using cached pybind11-2.6.1-py2.py3-none-any.whl (188 kB)\n",
            "Requirement already satisfied: psutil in /usr/local/lib/python3.10/dist-packages (from nmslib>=1.7.3.6->scispacy) (5.9.5)\n",
            "Requirement already satisfied: charset-normalizer<4,>=2 in /usr/local/lib/python3.10/dist-packages (from requests<3.0.0,>=2.0.0->scispacy) (3.3.2)\n",
            "Requirement already satisfied: idna<4,>=2.5 in /usr/local/lib/python3.10/dist-packages (from requests<3.0.0,>=2.0.0->scispacy) (3.6)\n",
            "Requirement already satisfied: urllib3<3,>=1.21.1 in /usr/local/lib/python3.10/dist-packages (from requests<3.0.0,>=2.0.0->scispacy) (2.0.7)\n",
            "Requirement already satisfied: certifi>=2017.4.17 in /usr/local/lib/python3.10/dist-packages (from requests<3.0.0,>=2.0.0->scispacy) (2023.11.17)\n",
            "Requirement already satisfied: threadpoolctl>=2.0.0 in /usr/local/lib/python3.10/dist-packages (from scikit-learn>=0.20.3->scispacy) (3.2.0)\n",
            "Requirement already satisfied: spacy-legacy<3.1.0,>=3.0.11 in /usr/local/lib/python3.10/dist-packages (from spacy<3.7.0,>=3.6.0->scispacy) (3.0.12)\n",
            "Requirement already satisfied: spacy-loggers<2.0.0,>=1.0.0 in /usr/local/lib/python3.10/dist-packages (from spacy<3.7.0,>=3.6.0->scispacy) (1.0.5)\n",
            "Requirement already satisfied: murmurhash<1.1.0,>=0.28.0 in /usr/local/lib/python3.10/dist-packages (from spacy<3.7.0,>=3.6.0->scispacy) (1.0.10)\n",
            "Requirement already satisfied: cymem<2.1.0,>=2.0.2 in /usr/local/lib/python3.10/dist-packages (from spacy<3.7.0,>=3.6.0->scispacy) (2.0.8)\n",
            "Requirement already satisfied: preshed<3.1.0,>=3.0.2 in /usr/local/lib/python3.10/dist-packages (from spacy<3.7.0,>=3.6.0->scispacy) (3.0.9)\n",
            "Requirement already satisfied: thinc<8.2.0,>=8.1.8 in /usr/local/lib/python3.10/dist-packages (from spacy<3.7.0,>=3.6.0->scispacy) (8.1.12)\n",
            "Requirement already satisfied: wasabi<1.2.0,>=0.9.1 in /usr/local/lib/python3.10/dist-packages (from spacy<3.7.0,>=3.6.0->scispacy) (1.1.2)\n",
            "Requirement already satisfied: srsly<3.0.0,>=2.4.3 in /usr/local/lib/python3.10/dist-packages (from spacy<3.7.0,>=3.6.0->scispacy) (2.4.8)\n",
            "Requirement already satisfied: catalogue<2.1.0,>=2.0.6 in /usr/local/lib/python3.10/dist-packages (from spacy<3.7.0,>=3.6.0->scispacy) (2.0.10)\n",
            "Requirement already satisfied: typer<0.10.0,>=0.3.0 in /usr/local/lib/python3.10/dist-packages (from spacy<3.7.0,>=3.6.0->scispacy) (0.9.0)\n",
            "Requirement already satisfied: pathy>=0.10.0 in /usr/local/lib/python3.10/dist-packages (from spacy<3.7.0,>=3.6.0->scispacy) (0.10.3)\n",
            "Requirement already satisfied: smart-open<7.0.0,>=5.2.1 in /usr/local/lib/python3.10/dist-packages (from spacy<3.7.0,>=3.6.0->scispacy) (6.4.0)\n",
            "Requirement already satisfied: tqdm<5.0.0,>=4.38.0 in /usr/local/lib/python3.10/dist-packages (from spacy<3.7.0,>=3.6.0->scispacy) (4.66.1)\n",
            "Requirement already satisfied: pydantic!=1.8,!=1.8.1,<3.0.0,>=1.7.4 in /usr/local/lib/python3.10/dist-packages (from spacy<3.7.0,>=3.6.0->scispacy) (1.10.13)\n",
            "Requirement already satisfied: jinja2 in /usr/local/lib/python3.10/dist-packages (from spacy<3.7.0,>=3.6.0->scispacy) (3.1.2)\n",
            "Requirement already satisfied: setuptools in /usr/local/lib/python3.10/dist-packages (from spacy<3.7.0,>=3.6.0->scispacy) (67.7.2)\n",
            "Requirement already satisfied: packaging>=20.0 in /usr/local/lib/python3.10/dist-packages (from spacy<3.7.0,>=3.6.0->scispacy) (23.2)\n",
            "Requirement already satisfied: langcodes<4.0.0,>=3.2.0 in /usr/local/lib/python3.10/dist-packages (from spacy<3.7.0,>=3.6.0->scispacy) (3.3.0)\n",
            "Requirement already satisfied: typing-extensions>=4.2.0 in /usr/local/lib/python3.10/dist-packages (from pydantic!=1.8,!=1.8.1,<3.0.0,>=1.7.4->spacy<3.7.0,>=3.6.0->scispacy) (4.5.0)\n",
            "Requirement already satisfied: blis<0.8.0,>=0.7.8 in /usr/local/lib/python3.10/dist-packages (from thinc<8.2.0,>=8.1.8->spacy<3.7.0,>=3.6.0->scispacy) (0.7.11)\n",
            "Requirement already satisfied: confection<1.0.0,>=0.0.1 in /usr/local/lib/python3.10/dist-packages (from thinc<8.2.0,>=8.1.8->spacy<3.7.0,>=3.6.0->scispacy) (0.1.4)\n",
            "Requirement already satisfied: click<9.0.0,>=7.1.1 in /usr/local/lib/python3.10/dist-packages (from typer<0.10.0,>=0.3.0->spacy<3.7.0,>=3.6.0->scispacy) (8.1.7)\n",
            "Requirement already satisfied: MarkupSafe>=2.0 in /usr/local/lib/python3.10/dist-packages (from jinja2->spacy<3.7.0,>=3.6.0->scispacy) (2.1.3)\n",
            "Building wheels for collected packages: nmslib\n",
            "  Building wheel for nmslib (setup.py) ... \u001b[?25l\u001b[?25hdone\n",
            "  Created wheel for nmslib: filename=nmslib-2.1.1-cp310-cp310-linux_x86_64.whl size=13578648 sha256=2ade11d0cf19a46c76666b13d6565a088a77dfc2e34dcc9f00e958a5bc17be3f\n",
            "  Stored in directory: /root/.cache/pip/wheels/21/1a/5d/4cc754a5b1a88405cad184b76f823897a63a8d19afcd4b9314\n",
            "Successfully built nmslib\n",
            "Installing collected packages: scipy, pysbd, pybind11, conllu, nmslib, spacy, scispacy\n",
            "  Attempting uninstall: scipy\n",
            "    Found existing installation: scipy 1.11.4\n",
            "    Uninstalling scipy-1.11.4:\n",
            "      Successfully uninstalled scipy-1.11.4\n",
            "  Attempting uninstall: spacy\n",
            "    Found existing installation: spacy 3.7.2\n",
            "    Uninstalling spacy-3.7.2:\n",
            "      Successfully uninstalled spacy-3.7.2\n",
            "\u001b[31mERROR: pip's dependency resolver does not currently take into account all the packages that are installed. This behaviour is the source of the following dependency conflicts.\n",
            "lida 0.0.10 requires fastapi, which is not installed.\n",
            "lida 0.0.10 requires kaleido, which is not installed.\n",
            "lida 0.0.10 requires python-multipart, which is not installed.\n",
            "lida 0.0.10 requires uvicorn, which is not installed.\u001b[0m\u001b[31m\n",
            "\u001b[0mSuccessfully installed conllu-4.5.3 nmslib-2.1.1 pybind11-2.6.1 pysbd-0.3.4 scipy-1.10.1 scispacy-0.5.3 spacy-3.6.1\n"
          ]
        },
        {
          "output_type": "display_data",
          "data": {
            "application/vnd.colab-display-data+json": {
              "pip_warning": {
                "packages": [
                  "spacy"
                ]
              }
            }
          },
          "metadata": {}
        },
        {
          "output_type": "stream",
          "name": "stdout",
          "text": [
            "Collecting https://s3-us-west-2.amazonaws.com/ai2-s2-scispacy/releases/v0.5.3/en_core_sci_lg-0.5.3.tar.gz\n",
            "  Downloading https://s3-us-west-2.amazonaws.com/ai2-s2-scispacy/releases/v0.5.3/en_core_sci_lg-0.5.3.tar.gz (531.2 MB)\n",
            "\u001b[2K     \u001b[90m━━━━━━━━━━━━━━━━━━━━━━━━━━━━━━━━━━━━━━━━\u001b[0m \u001b[32m531.2/531.2 MB\u001b[0m \u001b[31m2.4 MB/s\u001b[0m eta \u001b[36m0:00:00\u001b[0m\n",
            "\u001b[?25h  Preparing metadata (setup.py) ... \u001b[?25l\u001b[?25hdone\n",
            "Requirement already satisfied: spacy<3.7.0,>=3.6.1 in /usr/local/lib/python3.10/dist-packages (from en-core-sci-lg==0.5.3) (3.6.1)\n",
            "Requirement already satisfied: spacy-legacy<3.1.0,>=3.0.11 in /usr/local/lib/python3.10/dist-packages (from spacy<3.7.0,>=3.6.1->en-core-sci-lg==0.5.3) (3.0.12)\n",
            "Requirement already satisfied: spacy-loggers<2.0.0,>=1.0.0 in /usr/local/lib/python3.10/dist-packages (from spacy<3.7.0,>=3.6.1->en-core-sci-lg==0.5.3) (1.0.5)\n",
            "Requirement already satisfied: murmurhash<1.1.0,>=0.28.0 in /usr/local/lib/python3.10/dist-packages (from spacy<3.7.0,>=3.6.1->en-core-sci-lg==0.5.3) (1.0.10)\n",
            "Requirement already satisfied: cymem<2.1.0,>=2.0.2 in /usr/local/lib/python3.10/dist-packages (from spacy<3.7.0,>=3.6.1->en-core-sci-lg==0.5.3) (2.0.8)\n",
            "Requirement already satisfied: preshed<3.1.0,>=3.0.2 in /usr/local/lib/python3.10/dist-packages (from spacy<3.7.0,>=3.6.1->en-core-sci-lg==0.5.3) (3.0.9)\n",
            "Requirement already satisfied: thinc<8.2.0,>=8.1.8 in /usr/local/lib/python3.10/dist-packages (from spacy<3.7.0,>=3.6.1->en-core-sci-lg==0.5.3) (8.1.12)\n",
            "Requirement already satisfied: wasabi<1.2.0,>=0.9.1 in /usr/local/lib/python3.10/dist-packages (from spacy<3.7.0,>=3.6.1->en-core-sci-lg==0.5.3) (1.1.2)\n",
            "Requirement already satisfied: srsly<3.0.0,>=2.4.3 in /usr/local/lib/python3.10/dist-packages (from spacy<3.7.0,>=3.6.1->en-core-sci-lg==0.5.3) (2.4.8)\n",
            "Requirement already satisfied: catalogue<2.1.0,>=2.0.6 in /usr/local/lib/python3.10/dist-packages (from spacy<3.7.0,>=3.6.1->en-core-sci-lg==0.5.3) (2.0.10)\n",
            "Requirement already satisfied: typer<0.10.0,>=0.3.0 in /usr/local/lib/python3.10/dist-packages (from spacy<3.7.0,>=3.6.1->en-core-sci-lg==0.5.3) (0.9.0)\n",
            "Requirement already satisfied: pathy>=0.10.0 in /usr/local/lib/python3.10/dist-packages (from spacy<3.7.0,>=3.6.1->en-core-sci-lg==0.5.3) (0.10.3)\n",
            "Requirement already satisfied: smart-open<7.0.0,>=5.2.1 in /usr/local/lib/python3.10/dist-packages (from spacy<3.7.0,>=3.6.1->en-core-sci-lg==0.5.3) (6.4.0)\n",
            "Requirement already satisfied: tqdm<5.0.0,>=4.38.0 in /usr/local/lib/python3.10/dist-packages (from spacy<3.7.0,>=3.6.1->en-core-sci-lg==0.5.3) (4.66.1)\n",
            "Requirement already satisfied: numpy>=1.15.0 in /usr/local/lib/python3.10/dist-packages (from spacy<3.7.0,>=3.6.1->en-core-sci-lg==0.5.3) (1.23.5)\n",
            "Requirement already satisfied: requests<3.0.0,>=2.13.0 in /usr/local/lib/python3.10/dist-packages (from spacy<3.7.0,>=3.6.1->en-core-sci-lg==0.5.3) (2.31.0)\n",
            "Requirement already satisfied: pydantic!=1.8,!=1.8.1,<3.0.0,>=1.7.4 in /usr/local/lib/python3.10/dist-packages (from spacy<3.7.0,>=3.6.1->en-core-sci-lg==0.5.3) (1.10.13)\n",
            "Requirement already satisfied: jinja2 in /usr/local/lib/python3.10/dist-packages (from spacy<3.7.0,>=3.6.1->en-core-sci-lg==0.5.3) (3.1.2)\n",
            "Requirement already satisfied: setuptools in /usr/local/lib/python3.10/dist-packages (from spacy<3.7.0,>=3.6.1->en-core-sci-lg==0.5.3) (67.7.2)\n",
            "Requirement already satisfied: packaging>=20.0 in /usr/local/lib/python3.10/dist-packages (from spacy<3.7.0,>=3.6.1->en-core-sci-lg==0.5.3) (23.2)\n",
            "Requirement already satisfied: langcodes<4.0.0,>=3.2.0 in /usr/local/lib/python3.10/dist-packages (from spacy<3.7.0,>=3.6.1->en-core-sci-lg==0.5.3) (3.3.0)\n",
            "Requirement already satisfied: typing-extensions>=4.2.0 in /usr/local/lib/python3.10/dist-packages (from pydantic!=1.8,!=1.8.1,<3.0.0,>=1.7.4->spacy<3.7.0,>=3.6.1->en-core-sci-lg==0.5.3) (4.5.0)\n",
            "Requirement already satisfied: charset-normalizer<4,>=2 in /usr/local/lib/python3.10/dist-packages (from requests<3.0.0,>=2.13.0->spacy<3.7.0,>=3.6.1->en-core-sci-lg==0.5.3) (3.3.2)\n",
            "Requirement already satisfied: idna<4,>=2.5 in /usr/local/lib/python3.10/dist-packages (from requests<3.0.0,>=2.13.0->spacy<3.7.0,>=3.6.1->en-core-sci-lg==0.5.3) (3.6)\n",
            "Requirement already satisfied: urllib3<3,>=1.21.1 in /usr/local/lib/python3.10/dist-packages (from requests<3.0.0,>=2.13.0->spacy<3.7.0,>=3.6.1->en-core-sci-lg==0.5.3) (2.0.7)\n",
            "Requirement already satisfied: certifi>=2017.4.17 in /usr/local/lib/python3.10/dist-packages (from requests<3.0.0,>=2.13.0->spacy<3.7.0,>=3.6.1->en-core-sci-lg==0.5.3) (2023.11.17)\n",
            "Requirement already satisfied: blis<0.8.0,>=0.7.8 in /usr/local/lib/python3.10/dist-packages (from thinc<8.2.0,>=8.1.8->spacy<3.7.0,>=3.6.1->en-core-sci-lg==0.5.3) (0.7.11)\n",
            "Requirement already satisfied: confection<1.0.0,>=0.0.1 in /usr/local/lib/python3.10/dist-packages (from thinc<8.2.0,>=8.1.8->spacy<3.7.0,>=3.6.1->en-core-sci-lg==0.5.3) (0.1.4)\n",
            "Requirement already satisfied: click<9.0.0,>=7.1.1 in /usr/local/lib/python3.10/dist-packages (from typer<0.10.0,>=0.3.0->spacy<3.7.0,>=3.6.1->en-core-sci-lg==0.5.3) (8.1.7)\n",
            "Requirement already satisfied: MarkupSafe>=2.0 in /usr/local/lib/python3.10/dist-packages (from jinja2->spacy<3.7.0,>=3.6.1->en-core-sci-lg==0.5.3) (2.1.3)\n",
            "Building wheels for collected packages: en-core-sci-lg\n",
            "  Building wheel for en-core-sci-lg (setup.py) ... \u001b[?25l\u001b[?25hdone\n",
            "  Created wheel for en-core-sci-lg: filename=en_core_sci_lg-0.5.3-py3-none-any.whl size=531476666 sha256=1ac274f0ddefbd6cec9f54fcd395caa21231b476c2e07aabae231781e5f06c90\n",
            "  Stored in directory: /root/.cache/pip/wheels/98/42/c4/404d162d1ffdbae4329b3bcfdf2ed2af5afcb9fea4bd274736\n",
            "Successfully built en-core-sci-lg\n",
            "Installing collected packages: en-core-sci-lg\n",
            "Successfully installed en-core-sci-lg-0.5.3\n"
          ]
        }
      ]
    },
    {
      "cell_type": "code",
      "source": [
        "\n",
        "\n",
        "import re\n",
        "import os\n",
        "import csv\n",
        "import json\n",
        "from typing import List\n",
        "import yaml\n",
        "\n",
        "import numpy as np\n",
        "import pandas as pd\n",
        "from bs4 import BeautifulSoup\n",
        "from tqdm.notebook import tqdm, trange\n"
      ],
      "metadata": {
        "id": "txBnpv8OJxcE"
      },
      "execution_count": null,
      "outputs": []
    },
    {
      "cell_type": "code",
      "source": [
        "from nltk.translate.bleu_score import corpus_bleu\n",
        "import requests\n",
        "import xml.etree.ElementTree as ET\n",
        "from nltk.translate.bleu_score import corpus_bleu\n",
        "\n",
        "import nltk\n",
        "from nltk.translate import meteor_score\n",
        "from nltk.tokenize import word_tokenize\n",
        "nltk.download('punkt')  # Download the 'punkt' resource\n",
        "nltk.download('wordnet')"
      ],
      "metadata": {
        "colab": {
          "base_uri": "https://localhost:8080/"
        },
        "id": "4KF_e815JmyE",
        "outputId": "cc29e038-4402-4087-ada8-c7ccb066b8be"
      },
      "execution_count": null,
      "outputs": [
        {
          "output_type": "stream",
          "name": "stderr",
          "text": [
            "[nltk_data] Downloading package punkt to /root/nltk_data...\n",
            "[nltk_data]   Unzipping tokenizers/punkt.zip.\n",
            "[nltk_data] Downloading package wordnet to /root/nltk_data...\n",
            "[nltk_data]   Package wordnet is already up-to-date!\n"
          ]
        },
        {
          "output_type": "execute_result",
          "data": {
            "text/plain": [
              "True"
            ]
          },
          "metadata": {},
          "execution_count": 23
        }
      ]
    },
    {
      "cell_type": "code",
      "source": [
        "### import python packages\n",
        "\n",
        "import nltk\n",
        "import spacy\n",
        "import scispacy\n",
        "import numpy as np\n",
        "from selfcheckgpt.modeling_selfcheck import SelfCheckBERTScore\n",
        "from nltk.translate.meteor_score import single_meteor_score\n",
        "\n",
        "# download wordnet\n",
        "nltk.download('wordnet')\n",
        "\n",
        "# Use SpaCy to extract clinical related entities\n",
        "nlp = spacy.load(\"en_core_sci_lg\")\n"
      ],
      "metadata": {
        "colab": {
          "base_uri": "https://localhost:8080/"
        },
        "id": "zXpAQkDe9FJ5",
        "outputId": "d00b823a-ed8e-42e6-c824-ea5bc8a765d9"
      },
      "execution_count": null,
      "outputs": [
        {
          "output_type": "stream",
          "name": "stderr",
          "text": [
            "[nltk_data] Downloading package wordnet to /root/nltk_data...\n",
            "/usr/local/lib/python3.10/dist-packages/spacy/language.py:2141: FutureWarning: Possible set union at position 6328\n",
            "  deserializers[\"tokenizer\"] = lambda p: self.tokenizer.from_disk(  # type: ignore[union-attr]\n"
          ]
        }
      ]
    },
    {
      "cell_type": "code",
      "execution_count": null,
      "metadata": {
        "id": "I0zodjO9BiK_"
      },
      "outputs": [],
      "source": [
        "import pickle\n",
        "with open(\"/content/drive/MyDrive/Capstone project/Ethics/llama_stats.pkl\", 'rb') as file:\n",
        "    data = pickle.load(file)"
      ]
    },
    {
      "cell_type": "code",
      "source": [
        "clinical_note = data[0]['clinical_note']\n",
        "summary = data[0]['summary']\n",
        "reference_summary = data[0]['reference_summary']\n",
        "m_score = data[0]['meteor_score']\n",
        "r1 = data[0]['rouge1_score']\n",
        "r2 = data[0]['rouge2_score']\n",
        "rl = data[0]['rougeL_score']\n",
        "bl = data[0]['bleu_score']\n",
        "\n",
        "print(\"Clinical Note:\", clinical_note)\n",
        "print(\"Summary:\", summary)\n",
        "print(\"Reference Summary:\", reference_summary)\n",
        "print(\"meteor_score\", m_score)\n",
        "print(\"rouge1_score\", r1)\n",
        "print(\"rouge2_score\", r2)\n",
        "print(\"rougeL_score\", rl)\n",
        "print(\"bleu_score\", bl)"
      ],
      "metadata": {
        "colab": {
          "base_uri": "https://localhost:8080/"
        },
        "id": "yaag6T-o86gL",
        "outputId": "84ac3c25-59c8-4183-bc43-ce88a4b07741"
      },
      "execution_count": null,
      "outputs": [
        {
          "output_type": "stream",
          "name": "stdout",
          "text": [
            "Clinical Note: ['78 M transferred to nursing home for rehab after CABG. Reportedly readmitted with a small NQWMI. Yesterday, he was noted to have a melanotic stool and then today he had approximately 9 loose BM w/ some melena and some frank blood just prior to transfer, unclear quantity.']\n",
            "Summary: ['```\\nPlease note that I am not a doctor or medical professional but will try my best to provide you information from this situation based on what I know of it. It seems like there might be two different issues at hand here - one being a possible bleeding issue in the GI tract which may have led to a hemorrhagic shock (if there were any significant amount of blood loss) as well as potential signs of dehydration due to vomiting. In addition, it appears that your patient has been recently discharged from the hospital following surgery so it&#x27;s likely they are also dealing with other post-operative concerns such as pain management etc.. If we focus specifically on their bowel movements though it looks like they started having &quot;melonitc&quot; poop which can sometimes signal ulcerations in your colon caused by irritants entering into your intestines via food particles or bacteria present within them leading up towards your large intestine where things get even more complicated if these ulcers become infected resulting in inflammation known commonly referred too simply put &quot;diarrhea&quot;. This particular case does seem very serious however because although it sounds unlikely someone could actually die solely off eating something bad without getting sick first unless perhaps they were already suffering severe depression beforehand which would cause extreme weightloss leading onto starvation deaths among others! \\n        \\n        \\n        \\n        \\n        \\n        \\n        \\n        \\n     ```']\n",
            "Reference Summary: A 78 year old male presents with frequent stools and melena.\n",
            "meteor_score 0.069060773480663\n",
            "rouge1_score 0.01652892561983471\n",
            "rouge2_score 0.0\n",
            "rougeL_score 0.01652892561983471\n",
            "bleu_score 4.6935544367270175e-232\n"
          ]
        }
      ]
    },
    {
      "cell_type": "code",
      "source": [
        "import pandas as pd\n",
        "\n",
        "df = pd.read_excel('/content/drive/MyDrive/Capstone project/Ethics/Outputs/llama2_output.xlsx')\n",
        "df.head()"
      ],
      "metadata": {
        "colab": {
          "base_uri": "https://localhost:8080/",
          "height": 293
        },
        "id": "IGDZUp4DK4sY",
        "outputId": "c29ca37d-3346-4feb-f6a2-86724505c7e9"
      },
      "execution_count": null,
      "outputs": [
        {
          "output_type": "execute_result",
          "data": {
            "text/plain": [
              "                                            articles  \\\n",
              "0  during the last years , the self - assembly of...   \n",
              "1  acute pancreatitis is an inflammatory intra - ...   \n",
              "2  pathological gambling is defined in the curren...   \n",
              "3  exacerbations of copd are associated with acce...   \n",
              "4  peri - implantitis is inflammation of the peri...   \n",
              "\n",
              "                                     correct_summary  \\\n",
              "0  during the last years , self - assembled organ...   \n",
              "1  aim . \\n acute pancreatitis is an inflammatory...   \n",
              "2  abstractthe incidence of pathological gambling...   \n",
              "3  purposepulmonary hypertension and exercise - i...   \n",
              "4  an 810-nm diode laser was used to non - surgic...   \n",
              "\n",
              "                                     model_generated  meteor_scores  \n",
              "0  Sure! Here&#x27;s a consolidated summary of th...       0.293046  \n",
              "1  Great, thank you! Based on these four summarie...       0.139674  \n",
              "2  Sure! Here&#x27;s a consolidated summary of th...       0.318883  \n",
              "3  Here&#x27;s a consolidated summary of the four...       0.326362  \n",
              "4  Sure! Here&#x27;s a consolidated summary of th...       0.190171  "
            ],
            "text/html": [
              "\n",
              "  <div id=\"df-6f1dfd87-6342-442f-8387-ca35f210cb4a\" class=\"colab-df-container\">\n",
              "    <div>\n",
              "<style scoped>\n",
              "    .dataframe tbody tr th:only-of-type {\n",
              "        vertical-align: middle;\n",
              "    }\n",
              "\n",
              "    .dataframe tbody tr th {\n",
              "        vertical-align: top;\n",
              "    }\n",
              "\n",
              "    .dataframe thead th {\n",
              "        text-align: right;\n",
              "    }\n",
              "</style>\n",
              "<table border=\"1\" class=\"dataframe\">\n",
              "  <thead>\n",
              "    <tr style=\"text-align: right;\">\n",
              "      <th></th>\n",
              "      <th>articles</th>\n",
              "      <th>correct_summary</th>\n",
              "      <th>model_generated</th>\n",
              "      <th>meteor_scores</th>\n",
              "    </tr>\n",
              "  </thead>\n",
              "  <tbody>\n",
              "    <tr>\n",
              "      <th>0</th>\n",
              "      <td>during the last years , the self - assembly of...</td>\n",
              "      <td>during the last years , self - assembled organ...</td>\n",
              "      <td>Sure! Here&amp;#x27;s a consolidated summary of th...</td>\n",
              "      <td>0.293046</td>\n",
              "    </tr>\n",
              "    <tr>\n",
              "      <th>1</th>\n",
              "      <td>acute pancreatitis is an inflammatory intra - ...</td>\n",
              "      <td>aim . \\n acute pancreatitis is an inflammatory...</td>\n",
              "      <td>Great, thank you! Based on these four summarie...</td>\n",
              "      <td>0.139674</td>\n",
              "    </tr>\n",
              "    <tr>\n",
              "      <th>2</th>\n",
              "      <td>pathological gambling is defined in the curren...</td>\n",
              "      <td>abstractthe incidence of pathological gambling...</td>\n",
              "      <td>Sure! Here&amp;#x27;s a consolidated summary of th...</td>\n",
              "      <td>0.318883</td>\n",
              "    </tr>\n",
              "    <tr>\n",
              "      <th>3</th>\n",
              "      <td>exacerbations of copd are associated with acce...</td>\n",
              "      <td>purposepulmonary hypertension and exercise - i...</td>\n",
              "      <td>Here&amp;#x27;s a consolidated summary of the four...</td>\n",
              "      <td>0.326362</td>\n",
              "    </tr>\n",
              "    <tr>\n",
              "      <th>4</th>\n",
              "      <td>peri - implantitis is inflammation of the peri...</td>\n",
              "      <td>an 810-nm diode laser was used to non - surgic...</td>\n",
              "      <td>Sure! Here&amp;#x27;s a consolidated summary of th...</td>\n",
              "      <td>0.190171</td>\n",
              "    </tr>\n",
              "  </tbody>\n",
              "</table>\n",
              "</div>\n",
              "    <div class=\"colab-df-buttons\">\n",
              "\n",
              "  <div class=\"colab-df-container\">\n",
              "    <button class=\"colab-df-convert\" onclick=\"convertToInteractive('df-6f1dfd87-6342-442f-8387-ca35f210cb4a')\"\n",
              "            title=\"Convert this dataframe to an interactive table.\"\n",
              "            style=\"display:none;\">\n",
              "\n",
              "  <svg xmlns=\"http://www.w3.org/2000/svg\" height=\"24px\" viewBox=\"0 -960 960 960\">\n",
              "    <path d=\"M120-120v-720h720v720H120Zm60-500h600v-160H180v160Zm220 220h160v-160H400v160Zm0 220h160v-160H400v160ZM180-400h160v-160H180v160Zm440 0h160v-160H620v160ZM180-180h160v-160H180v160Zm440 0h160v-160H620v160Z\"/>\n",
              "  </svg>\n",
              "    </button>\n",
              "\n",
              "  <style>\n",
              "    .colab-df-container {\n",
              "      display:flex;\n",
              "      gap: 12px;\n",
              "    }\n",
              "\n",
              "    .colab-df-convert {\n",
              "      background-color: #E8F0FE;\n",
              "      border: none;\n",
              "      border-radius: 50%;\n",
              "      cursor: pointer;\n",
              "      display: none;\n",
              "      fill: #1967D2;\n",
              "      height: 32px;\n",
              "      padding: 0 0 0 0;\n",
              "      width: 32px;\n",
              "    }\n",
              "\n",
              "    .colab-df-convert:hover {\n",
              "      background-color: #E2EBFA;\n",
              "      box-shadow: 0px 1px 2px rgba(60, 64, 67, 0.3), 0px 1px 3px 1px rgba(60, 64, 67, 0.15);\n",
              "      fill: #174EA6;\n",
              "    }\n",
              "\n",
              "    .colab-df-buttons div {\n",
              "      margin-bottom: 4px;\n",
              "    }\n",
              "\n",
              "    [theme=dark] .colab-df-convert {\n",
              "      background-color: #3B4455;\n",
              "      fill: #D2E3FC;\n",
              "    }\n",
              "\n",
              "    [theme=dark] .colab-df-convert:hover {\n",
              "      background-color: #434B5C;\n",
              "      box-shadow: 0px 1px 3px 1px rgba(0, 0, 0, 0.15);\n",
              "      filter: drop-shadow(0px 1px 2px rgba(0, 0, 0, 0.3));\n",
              "      fill: #FFFFFF;\n",
              "    }\n",
              "  </style>\n",
              "\n",
              "    <script>\n",
              "      const buttonEl =\n",
              "        document.querySelector('#df-6f1dfd87-6342-442f-8387-ca35f210cb4a button.colab-df-convert');\n",
              "      buttonEl.style.display =\n",
              "        google.colab.kernel.accessAllowed ? 'block' : 'none';\n",
              "\n",
              "      async function convertToInteractive(key) {\n",
              "        const element = document.querySelector('#df-6f1dfd87-6342-442f-8387-ca35f210cb4a');\n",
              "        const dataTable =\n",
              "          await google.colab.kernel.invokeFunction('convertToInteractive',\n",
              "                                                    [key], {});\n",
              "        if (!dataTable) return;\n",
              "\n",
              "        const docLinkHtml = 'Like what you see? Visit the ' +\n",
              "          '<a target=\"_blank\" href=https://colab.research.google.com/notebooks/data_table.ipynb>data table notebook</a>'\n",
              "          + ' to learn more about interactive tables.';\n",
              "        element.innerHTML = '';\n",
              "        dataTable['output_type'] = 'display_data';\n",
              "        await google.colab.output.renderOutput(dataTable, element);\n",
              "        const docLink = document.createElement('div');\n",
              "        docLink.innerHTML = docLinkHtml;\n",
              "        element.appendChild(docLink);\n",
              "      }\n",
              "    </script>\n",
              "  </div>\n",
              "\n",
              "\n",
              "<div id=\"df-8f83efb5-1867-496d-bd6e-4ef3389a25e3\">\n",
              "  <button class=\"colab-df-quickchart\" onclick=\"quickchart('df-8f83efb5-1867-496d-bd6e-4ef3389a25e3')\"\n",
              "            title=\"Suggest charts\"\n",
              "            style=\"display:none;\">\n",
              "\n",
              "<svg xmlns=\"http://www.w3.org/2000/svg\" height=\"24px\"viewBox=\"0 0 24 24\"\n",
              "     width=\"24px\">\n",
              "    <g>\n",
              "        <path d=\"M19 3H5c-1.1 0-2 .9-2 2v14c0 1.1.9 2 2 2h14c1.1 0 2-.9 2-2V5c0-1.1-.9-2-2-2zM9 17H7v-7h2v7zm4 0h-2V7h2v10zm4 0h-2v-4h2v4z\"/>\n",
              "    </g>\n",
              "</svg>\n",
              "  </button>\n",
              "\n",
              "<style>\n",
              "  .colab-df-quickchart {\n",
              "      --bg-color: #E8F0FE;\n",
              "      --fill-color: #1967D2;\n",
              "      --hover-bg-color: #E2EBFA;\n",
              "      --hover-fill-color: #174EA6;\n",
              "      --disabled-fill-color: #AAA;\n",
              "      --disabled-bg-color: #DDD;\n",
              "  }\n",
              "\n",
              "  [theme=dark] .colab-df-quickchart {\n",
              "      --bg-color: #3B4455;\n",
              "      --fill-color: #D2E3FC;\n",
              "      --hover-bg-color: #434B5C;\n",
              "      --hover-fill-color: #FFFFFF;\n",
              "      --disabled-bg-color: #3B4455;\n",
              "      --disabled-fill-color: #666;\n",
              "  }\n",
              "\n",
              "  .colab-df-quickchart {\n",
              "    background-color: var(--bg-color);\n",
              "    border: none;\n",
              "    border-radius: 50%;\n",
              "    cursor: pointer;\n",
              "    display: none;\n",
              "    fill: var(--fill-color);\n",
              "    height: 32px;\n",
              "    padding: 0;\n",
              "    width: 32px;\n",
              "  }\n",
              "\n",
              "  .colab-df-quickchart:hover {\n",
              "    background-color: var(--hover-bg-color);\n",
              "    box-shadow: 0 1px 2px rgba(60, 64, 67, 0.3), 0 1px 3px 1px rgba(60, 64, 67, 0.15);\n",
              "    fill: var(--button-hover-fill-color);\n",
              "  }\n",
              "\n",
              "  .colab-df-quickchart-complete:disabled,\n",
              "  .colab-df-quickchart-complete:disabled:hover {\n",
              "    background-color: var(--disabled-bg-color);\n",
              "    fill: var(--disabled-fill-color);\n",
              "    box-shadow: none;\n",
              "  }\n",
              "\n",
              "  .colab-df-spinner {\n",
              "    border: 2px solid var(--fill-color);\n",
              "    border-color: transparent;\n",
              "    border-bottom-color: var(--fill-color);\n",
              "    animation:\n",
              "      spin 1s steps(1) infinite;\n",
              "  }\n",
              "\n",
              "  @keyframes spin {\n",
              "    0% {\n",
              "      border-color: transparent;\n",
              "      border-bottom-color: var(--fill-color);\n",
              "      border-left-color: var(--fill-color);\n",
              "    }\n",
              "    20% {\n",
              "      border-color: transparent;\n",
              "      border-left-color: var(--fill-color);\n",
              "      border-top-color: var(--fill-color);\n",
              "    }\n",
              "    30% {\n",
              "      border-color: transparent;\n",
              "      border-left-color: var(--fill-color);\n",
              "      border-top-color: var(--fill-color);\n",
              "      border-right-color: var(--fill-color);\n",
              "    }\n",
              "    40% {\n",
              "      border-color: transparent;\n",
              "      border-right-color: var(--fill-color);\n",
              "      border-top-color: var(--fill-color);\n",
              "    }\n",
              "    60% {\n",
              "      border-color: transparent;\n",
              "      border-right-color: var(--fill-color);\n",
              "    }\n",
              "    80% {\n",
              "      border-color: transparent;\n",
              "      border-right-color: var(--fill-color);\n",
              "      border-bottom-color: var(--fill-color);\n",
              "    }\n",
              "    90% {\n",
              "      border-color: transparent;\n",
              "      border-bottom-color: var(--fill-color);\n",
              "    }\n",
              "  }\n",
              "</style>\n",
              "\n",
              "  <script>\n",
              "    async function quickchart(key) {\n",
              "      const quickchartButtonEl =\n",
              "        document.querySelector('#' + key + ' button');\n",
              "      quickchartButtonEl.disabled = true;  // To prevent multiple clicks.\n",
              "      quickchartButtonEl.classList.add('colab-df-spinner');\n",
              "      try {\n",
              "        const charts = await google.colab.kernel.invokeFunction(\n",
              "            'suggestCharts', [key], {});\n",
              "      } catch (error) {\n",
              "        console.error('Error during call to suggestCharts:', error);\n",
              "      }\n",
              "      quickchartButtonEl.classList.remove('colab-df-spinner');\n",
              "      quickchartButtonEl.classList.add('colab-df-quickchart-complete');\n",
              "    }\n",
              "    (() => {\n",
              "      let quickchartButtonEl =\n",
              "        document.querySelector('#df-8f83efb5-1867-496d-bd6e-4ef3389a25e3 button');\n",
              "      quickchartButtonEl.style.display =\n",
              "        google.colab.kernel.accessAllowed ? 'block' : 'none';\n",
              "    })();\n",
              "  </script>\n",
              "</div>\n",
              "    </div>\n",
              "  </div>\n"
            ]
          },
          "metadata": {},
          "execution_count": 5
        }
      ]
    },
    {
      "cell_type": "code",
      "source": [
        "model_generated = df['model_generated'].tolist()\n",
        "correct_summary = df['correct_summary'].tolist()\n",
        "articles = df['articles'].tolist()\n",
        "print(len(model_generated))\n",
        "print(len(correct_summary))\n",
        "print(len(articles))"
      ],
      "metadata": {
        "colab": {
          "base_uri": "https://localhost:8080/"
        },
        "id": "5Eerr0TSL6tG",
        "outputId": "7e0341cf-4275-403e-aa84-d28e1ff47242"
      },
      "execution_count": null,
      "outputs": [
        {
          "output_type": "stream",
          "name": "stdout",
          "text": [
            "100\n",
            "100\n",
            "100\n"
          ]
        }
      ]
    },
    {
      "cell_type": "code",
      "source": [
        "### SelfCheckGPT Score\n",
        "\n",
        "# pre-define this selfcheck_bertscore function before all the iteration code\n",
        "selfcheck_bertscore = SelfCheckBERTScore(rescale_with_baseline=True)\n",
        "\n",
        "# We need to change the source code to extract sentence for sampled_passages\n",
        "def SelfCheckGPT(pred,label):\n",
        "    sent_scores_bertscore = selfcheck_bertscore.predict(\n",
        "      sentences = [sent.text.strip() for sent in nlp(label).sents if len(sent) > 3],\n",
        "      sampled_passages = [pred.strip()],\n",
        "    )\n",
        "    return np.mean(sent_scores_bertscore)"
      ],
      "metadata": {
        "colab": {
          "base_uri": "https://localhost:8080/"
        },
        "id": "dZpuYfjA9OZF",
        "outputId": "0454bfde-24e9-499e-e5cd-1c2a98d398b4"
      },
      "execution_count": null,
      "outputs": [
        {
          "output_type": "stream",
          "name": "stdout",
          "text": [
            "SelfCheck-BERTScore initialized\n"
          ]
        }
      ]
    },
    {
      "cell_type": "code",
      "source": [
        "### Meteor Score for Hallucination\n",
        "\n",
        "# use 1 minus meteor score to estimate hallucination\n",
        "def Meteor_Hallucination(pred,label):\n",
        "    doc1, doc2 = nlp(pred), nlp(label)\n",
        "    x, y = [str(d) for d in doc1.ents], [str(d) for d in doc2.ents]\n",
        "    return 1 - single_meteor_score(y,x)"
      ],
      "metadata": {
        "id": "_UOhzJ899-aK"
      },
      "execution_count": null,
      "outputs": []
    },
    {
      "cell_type": "code",
      "source": [
        "doc1, doc2 = nlp(model_generated[0]), nlp(correct_summary[0])\n",
        "x, y = [str(d) for d in doc1.ents], [str(d) for d in doc2.ents]"
      ],
      "metadata": {
        "id": "dA5fFzCJGjvt"
      },
      "execution_count": null,
      "outputs": []
    },
    {
      "cell_type": "code",
      "source": [],
      "metadata": {
        "id": "xyRO18AxPu2G",
        "outputId": "9d45e49a-c81c-4ddf-df00-e4a1aa0c7cb5",
        "colab": {
          "base_uri": "https://localhost:8080/"
        }
      },
      "execution_count": null,
      "outputs": [
        {
          "output_type": "execute_result",
          "data": {
            "text/plain": [
              "['years',\n",
              " 'self',\n",
              " 'assembled',\n",
              " 'organic',\n",
              " 'electrical',\n",
              " 'optical applications',\n",
              " 'phenylenes',\n",
              " 'deposited',\n",
              " 'muscovite mica',\n",
              " 'material',\n",
              " 'combination',\n",
              " 'needlelike structures',\n",
              " 'macroscopic',\n",
              " 'emission',\n",
              " 'waveguiding',\n",
              " 'lasing',\n",
              " 'resulting anisotropy',\n",
              " 'induced',\n",
              " 'dipole',\n",
              " 'muscovite mica',\n",
              " 'substrate',\n",
              " 'experimental',\n",
              " 'theoretical approach',\n",
              " 'alternative',\n",
              " 'growth model',\n",
              " 'molecular adsorption',\n",
              " 'sheet',\n",
              " 'silicates',\n",
              " 'moleculesurface',\n",
              " 'interactions',\n",
              " 'comprehensive',\n",
              " 'comparison',\n",
              " 'experiments',\n",
              " 'simulations',\n",
              " 'geometrical changes',\n",
              " 'substrate',\n",
              " 'surface',\n",
              " 'molecule',\n",
              " 'molecular adsorption geometries',\n",
              " 'needle',\n",
              " 'growth model']"
            ]
          },
          "metadata": {},
          "execution_count": 36
        }
      ]
    },
    {
      "cell_type": "code",
      "source": [
        "len(doc1)"
      ],
      "metadata": {
        "colab": {
          "base_uri": "https://localhost:8080/"
        },
        "id": "MgmmbrW3Kxag",
        "outputId": "0f07c53d-f857-41e9-fd07-72c369883d89"
      },
      "execution_count": null,
      "outputs": [
        {
          "output_type": "execute_result",
          "data": {
            "text/plain": [
              "353"
            ]
          },
          "metadata": {},
          "execution_count": 33
        }
      ]
    },
    {
      "cell_type": "code",
      "source": [
        "doc1"
      ],
      "metadata": {
        "colab": {
          "base_uri": "https://localhost:8080/"
        },
        "id": "rP5ZVuXsG67N",
        "outputId": "4226dcf3-4224-4bc0-e77c-c5525b005499"
      },
      "execution_count": null,
      "outputs": [
        {
          "output_type": "execute_result",
          "data": {
            "text/plain": [
              "Sure! Here&#x27;s a consolidated summary of the articles based on your requests:\n",
              "In this study, researchers investigate the creation of organized nanostructures with potential applications in device technology. They discover a method to create parallel-aligned nanofibers emitting blue light by aligning molecules on muscovite mica. Understanding the growth mechanism is essential for selecting the best molecules for creating these structures. Using X-ray diffraction and atomic force microscopy, the study shows that the surface geometry of muscovite mica influences the growth behavior of the nanofibers. On phlogopite mica, nanoneedles with a higher degree of symmetry are observed compared to muscovite mica. Further analysis reveals that the lattice parameters of the growing crystallites are affected by the surface geometry of the substrate.\n",
              "A subsequent study examines the structural properties of hydrographitically grown 6T nanofibers using X-ray diffraction. The results indicate that the 6T molecules are arranged in a specific way within the crystal, with a parallel orientation of the {411} planes to the substrate surface. The study also determines the long molecular axis of the 6T molecules and demonstrates that the density of molecules on the surface increases as the number of molecules grows, leading to changes in the orientations of the Needle Like Axes.\n",
              "Another study explores the influence of surface corrugation on the adsorption of organic molecules on sheet silicate substrates. The investigation finds that the surface corrugation leads to different preferred azimuthal orientations of the molecules on Pyrophyllite and Talc, with Talc exhibiting more peaks than Pyrophyllite.\n",
              "Finally, the last study investigates the adsorption of rod-shaped molecules on flat silicate surfaces, focusing on the impact of mirror symmetry and corrugation on molecular orientation. The study discovers that optimal alignment occurs when the molecules align parallel or perpendicular to the mirror axis of the substrate material, Muscovite mica. The authors propose a model explaining the anisotropy of rod-shaped molecules on Muscovite mica without the need for electric dipole fields."
            ]
          },
          "metadata": {},
          "execution_count": 11
        }
      ]
    },
    {
      "cell_type": "code",
      "source": [
        "doc1.ents"
      ],
      "metadata": {
        "colab": {
          "base_uri": "https://localhost:8080/"
        },
        "id": "W_h5OaThOrHk",
        "outputId": "338295bc-e1b1-4d6d-843b-bd727326b727"
      },
      "execution_count": null,
      "outputs": [
        {
          "output_type": "execute_result",
          "data": {
            "text/plain": [
              "(Sure!,\n",
              " articles,\n",
              " requests,\n",
              " study,\n",
              " researchers,\n",
              " investigate,\n",
              " creation,\n",
              " organized,\n",
              " nanostructures,\n",
              " device technology,\n",
              " method,\n",
              " parallel-aligned,\n",
              " nanofibers,\n",
              " molecules,\n",
              " muscovite mica,\n",
              " growth mechanism,\n",
              " molecules,\n",
              " structures,\n",
              " X-ray diffraction,\n",
              " atomic force microscopy,\n",
              " study,\n",
              " surface geometry,\n",
              " muscovite mica,\n",
              " influences,\n",
              " growth behavior,\n",
              " nanofibers,\n",
              " phlogopite mica,\n",
              " nanoneedles,\n",
              " degree,\n",
              " symmetry,\n",
              " muscovite mica,\n",
              " analysis,\n",
              " lattice,\n",
              " parameters,\n",
              " crystallites,\n",
              " surface geometry,\n",
              " substrate,\n",
              " study,\n",
              " structural,\n",
              " properties,\n",
              " hydrographitically grown,\n",
              " T nanofibers,\n",
              " X-ray diffraction,\n",
              " results,\n",
              " T molecules,\n",
              " crystal,\n",
              " orientation,\n",
              " planes,\n",
              " substrate,\n",
              " surface,\n",
              " study,\n",
              " long molecular axis,\n",
              " T molecules,\n",
              " density,\n",
              " molecules,\n",
              " surface,\n",
              " increases,\n",
              " molecules,\n",
              " changes,\n",
              " orientations,\n",
              " Needle,\n",
              " study,\n",
              " influence,\n",
              " surface,\n",
              " corrugation,\n",
              " adsorption,\n",
              " organic molecules,\n",
              " sheet,\n",
              " silicate,\n",
              " substrates,\n",
              " investigation,\n",
              " surface,\n",
              " corrugation,\n",
              " azimuthal,\n",
              " orientations,\n",
              " molecules,\n",
              " Pyrophyllite,\n",
              " Talc,\n",
              " Talc,\n",
              " Pyrophyllite,\n",
              " study,\n",
              " investigates,\n",
              " adsorption,\n",
              " rod-shaped molecules,\n",
              " flat,\n",
              " silicate,\n",
              " surfaces,\n",
              " impact,\n",
              " mirror symmetry,\n",
              " corrugation,\n",
              " molecular orientation,\n",
              " study,\n",
              " optimal,\n",
              " alignment,\n",
              " molecules,\n",
              " perpendicular,\n",
              " mirror axis,\n",
              " substrate material,\n",
              " Muscovite mica,\n",
              " authors,\n",
              " model,\n",
              " anisotropy,\n",
              " rod-shaped molecules,\n",
              " Muscovite mica,\n",
              " electric dipole fields)"
            ]
          },
          "metadata": {},
          "execution_count": 34
        }
      ]
    },
    {
      "cell_type": "code",
      "source": [
        "model_generated[0]"
      ],
      "metadata": {
        "colab": {
          "base_uri": "https://localhost:8080/",
          "height": 339
        },
        "id": "fAyKZ4VQHGds",
        "outputId": "2d8e8cc1-c77c-4f60-d49e-6780d4c8f58c"
      },
      "execution_count": null,
      "outputs": [
        {
          "output_type": "execute_result",
          "data": {
            "text/plain": [
              "'Sure! Here&#x27;s a consolidated summary of the articles based on your requests:\\nIn this study, researchers investigate the creation of organized nanostructures with potential applications in device technology. They discover a method to create parallel-aligned nanofibers emitting blue light by aligning molecules on muscovite mica. Understanding the growth mechanism is essential for selecting the best molecules for creating these structures. Using X-ray diffraction and atomic force microscopy, the study shows that the surface geometry of muscovite mica influences the growth behavior of the nanofibers. On phlogopite mica, nanoneedles with a higher degree of symmetry are observed compared to muscovite mica. Further analysis reveals that the lattice parameters of the growing crystallites are affected by the surface geometry of the substrate.\\nA subsequent study examines the structural properties of hydrographitically grown 6T nanofibers using X-ray diffraction. The results indicate that the 6T molecules are arranged in a specific way within the crystal, with a parallel orientation of the {411} planes to the substrate surface. The study also determines the long molecular axis of the 6T molecules and demonstrates that the density of molecules on the surface increases as the number of molecules grows, leading to changes in the orientations of the Needle Like Axes.\\nAnother study explores the influence of surface corrugation on the adsorption of organic molecules on sheet silicate substrates. The investigation finds that the surface corrugation leads to different preferred azimuthal orientations of the molecules on Pyrophyllite and Talc, with Talc exhibiting more peaks than Pyrophyllite.\\nFinally, the last study investigates the adsorption of rod-shaped molecules on flat silicate surfaces, focusing on the impact of mirror symmetry and corrugation on molecular orientation. The study discovers that optimal alignment occurs when the molecules align parallel or perpendicular to the mirror axis of the substrate material, Muscovite mica. The authors propose a model explaining the anisotropy of rod-shaped molecules on Muscovite mica without the need for electric dipole fields.'"
            ],
            "application/vnd.google.colaboratory.intrinsic+json": {
              "type": "string"
            }
          },
          "metadata": {},
          "execution_count": 13
        }
      ]
    },
    {
      "cell_type": "code",
      "source": [
        "# Convert SpaCy Doc object to a list of strings (tokens)\n",
        "ref_tokens = [token.text for token in doc1]\n",
        "hyp_tokens = model_generated[0].split()  # assuming this is already a string\n",
        "\n",
        "# Compute BLEU score\n",
        "bleu_score = corpus_bleu([[ref_tokens]], [hyp_tokens])\n",
        "\n",
        "bleu_score"
      ],
      "metadata": {
        "colab": {
          "base_uri": "https://localhost:8080/"
        },
        "id": "kx9Q3R9-JXCb",
        "outputId": "c1684515-7ceb-4907-a077-492c7d8f22ae"
      },
      "execution_count": null,
      "outputs": [
        {
          "output_type": "execute_result",
          "data": {
            "text/plain": [
              "0.705246512013589"
            ]
          },
          "metadata": {},
          "execution_count": 27
        }
      ]
    },
    {
      "cell_type": "code",
      "source": [
        "doc2"
      ],
      "metadata": {
        "colab": {
          "base_uri": "https://localhost:8080/"
        },
        "id": "vLlxDJ-WHCHP",
        "outputId": "ca8c3cef-c8a8-4bdf-89e3-dfa2e2f6ab46"
      },
      "execution_count": null,
      "outputs": [
        {
          "output_type": "execute_result",
          "data": {
            "text/plain": [
              "during the last years , self - assembled organic nanostructures have been recognized as a proper fundament for several electrical and optical applications . in particular , phenylenes deposited on muscovite mica have turned out to be an outstanding material combination . \n",
              " they tend to align parallel to each other forming needlelike structures . in that way \n",
              " , they provide the key for macroscopic highly polarized emission , waveguiding , and lasing . \n",
              " the resulting anisotropy has been interpreted so far by an induced dipole originating from the muscovite mica substrate . \n",
              " based on a combined experimental and theoretical approach , we present an alternative growth model being able to explain molecular adsorption on sheet silicates in terms of moleculesurface interactions only . by a comprehensive comparison between experiments and simulations , \n",
              " we demonstrate that geometrical changes in the substrate surface or molecule lead to different molecular adsorption geometries and needle directions which can be predicted by our growth model ."
            ]
          },
          "metadata": {},
          "execution_count": 12
        }
      ]
    },
    {
      "cell_type": "code",
      "source": [
        "### Hallucination Score\n",
        "\n",
        "# 1 - precision\n",
        "# 1 - TP / (TP+FP)\n",
        "# TP: common entities between generated text and label text\n",
        "# use this to estimate hallucination\n",
        "\n",
        "def Hallucination_Score(pred,label):\n",
        "    doc1, doc2 = nlp(pred), nlp(label)\n",
        "    x, y = [str(d) for d in doc1.ents], [str(d) for d in doc2.ents]\n",
        "    if (len(x) == 0):\n",
        "        return 1\n",
        "    else:\n",
        "        return 1 - len(list(set(list(x))&set(list(y))))/len(set(list(x)))"
      ],
      "metadata": {
        "id": "wVs1RJMj-B75"
      },
      "execution_count": null,
      "outputs": []
    },
    {
      "cell_type": "code",
      "source": [
        "SelfCheckGPT(model_generated[0], correct_summary[0])"
      ],
      "metadata": {
        "colab": {
          "base_uri": "https://localhost:8080/"
        },
        "id": "F8jGsiR4OXVo",
        "outputId": "6517714d-28d5-4922-90b7-d20198f9e0e1"
      },
      "execution_count": null,
      "outputs": [
        {
          "output_type": "execute_result",
          "data": {
            "text/plain": [
              "0.8570692988303461"
            ]
          },
          "metadata": {},
          "execution_count": 14
        }
      ]
    },
    {
      "cell_type": "code",
      "source": [
        "Meteor_Hallucination(model_generated[0], correct_summary[0])"
      ],
      "metadata": {
        "colab": {
          "base_uri": "https://localhost:8080/"
        },
        "id": "hK5JuG03UwgR",
        "outputId": "feae9c4e-c7ae-4a20-90b8-f3c40bd72e68"
      },
      "execution_count": null,
      "outputs": [
        {
          "output_type": "execute_result",
          "data": {
            "text/plain": [
              "0.8945147679324894"
            ]
          },
          "metadata": {},
          "execution_count": 17
        }
      ]
    },
    {
      "cell_type": "code",
      "source": [
        "Hallucination_Score(model_generated[0], correct_summary[0])"
      ],
      "metadata": {
        "colab": {
          "base_uri": "https://localhost:8080/"
        },
        "id": "QdN-uEg8U2A1",
        "outputId": "4f760963-e20c-4797-afc9-8ff41b563b4b"
      },
      "execution_count": null,
      "outputs": [
        {
          "output_type": "execute_result",
          "data": {
            "text/plain": [
              "0.9466666666666667"
            ]
          },
          "metadata": {},
          "execution_count": 18
        }
      ]
    },
    {
      "cell_type": "code",
      "source": [
        "self_c = []\n",
        "met_c = []\n",
        "hall_c = []\n",
        "for i in range(100):\n",
        "  a = SelfCheckGPT(model_generated[i], correct_summary[i])\n",
        "  self_c.append(a)\n",
        "  b = Meteor_Hallucination(model_generated[i], correct_summary[i])\n",
        "  met_c.append(b)\n",
        "  c = Hallucination_Score(model_generated[i], correct_summary[i])\n",
        "  hall_c.append(c)"
      ],
      "metadata": {
        "id": "5yNDg6PEVTxP"
      },
      "execution_count": null,
      "outputs": []
    },
    {
      "cell_type": "code",
      "source": [
        "self_a = []\n",
        "met_a = []\n",
        "hall_a = []\n",
        "for i in range(100):\n",
        "  a = SelfCheckGPT(model_generated[i], articles[i])\n",
        "  self_a.append(a)\n",
        "  b = Meteor_Hallucination(model_generated[i], articles[i])\n",
        "  met_a.append(b)\n",
        "  c = Hallucination_Score(model_generated[i], articles[i])\n",
        "  hall_a.append(c)"
      ],
      "metadata": {
        "id": "2niQjc-LWqhP"
      },
      "execution_count": null,
      "outputs": []
    },
    {
      "cell_type": "code",
      "source": [
        "data = {\n",
        "    'articles': articles,\n",
        "    'correct_summary': correct_summary,\n",
        "    'model_generated': model_generated,\n",
        "    'SelfCheckGPT (correct and generated)': self_c,\n",
        "    'Meteor (correct and generated)': met_c,\n",
        "    'Hallucination (correct and generated)': hall_c,\n",
        "    'SelfCheckGPT (article and generated)': self_a,\n",
        "    'Meteor (article and generated)': met_a,\n",
        "    'Hallucination (article and generated)': hall_a\n",
        "}\n",
        "\n",
        "# Creating a DataFrame\n",
        "df = pd.DataFrame(data)\n",
        "\n",
        "# Exporting the DataFrame to an Excel file\n",
        "df.to_excel('Hallucination metrics.xlsx', index=False)"
      ],
      "metadata": {
        "id": "JxWsuE8jXTQ1"
      },
      "execution_count": null,
      "outputs": []
    },
    {
      "cell_type": "code",
      "source": [
        "SelfCheckGPT(data[0]['summary'][0], data[0]['reference_summary'])"
      ],
      "metadata": {
        "colab": {
          "base_uri": "https://localhost:8080/",
          "height": 179
        },
        "id": "hgK0B8RoA0bE",
        "outputId": "d6cbf94f-2a40-4440-dad1-1c6159e1540d"
      },
      "execution_count": null,
      "outputs": [
        {
          "output_type": "error",
          "ename": "NameError",
          "evalue": "ignored",
          "traceback": [
            "\u001b[0;31m---------------------------------------------------------------------------\u001b[0m",
            "\u001b[0;31mNameError\u001b[0m                                 Traceback (most recent call last)",
            "\u001b[0;32m<ipython-input-12-b32c22262a54>\u001b[0m in \u001b[0;36m<cell line: 1>\u001b[0;34m()\u001b[0m\n\u001b[0;32m----> 1\u001b[0;31m \u001b[0mSelfCheckGPT\u001b[0m\u001b[0;34m(\u001b[0m\u001b[0mdata\u001b[0m\u001b[0;34m[\u001b[0m\u001b[0;36m0\u001b[0m\u001b[0;34m]\u001b[0m\u001b[0;34m[\u001b[0m\u001b[0;34m'summary'\u001b[0m\u001b[0;34m]\u001b[0m\u001b[0;34m[\u001b[0m\u001b[0;36m0\u001b[0m\u001b[0;34m]\u001b[0m\u001b[0;34m,\u001b[0m \u001b[0mdata\u001b[0m\u001b[0;34m[\u001b[0m\u001b[0;36m0\u001b[0m\u001b[0;34m]\u001b[0m\u001b[0;34m[\u001b[0m\u001b[0;34m'reference_summary'\u001b[0m\u001b[0;34m]\u001b[0m\u001b[0;34m)\u001b[0m\u001b[0;34m\u001b[0m\u001b[0;34m\u001b[0m\u001b[0m\n\u001b[0m",
            "\u001b[0;31mNameError\u001b[0m: name 'data' is not defined"
          ]
        }
      ]
    },
    {
      "cell_type": "code",
      "source": [
        "Meteor_Hallucination(data[0]['summary'][0], data[0]['reference_summary'])"
      ],
      "metadata": {
        "colab": {
          "base_uri": "https://localhost:8080/"
        },
        "id": "zLwStBz2C7VV",
        "outputId": "6eca0657-7fde-490c-e971-f5b14eaebffc"
      },
      "execution_count": null,
      "outputs": [
        {
          "output_type": "execute_result",
          "data": {
            "text/plain": [
              "1.0"
            ]
          },
          "metadata": {},
          "execution_count": 15
        }
      ]
    },
    {
      "cell_type": "code",
      "source": [
        "Hallucination_Score(data[0]['summary'][0], data[0]['reference_summary'])"
      ],
      "metadata": {
        "colab": {
          "base_uri": "https://localhost:8080/"
        },
        "id": "moyZvqqmDE75",
        "outputId": "7c18acf5-d49e-4527-f61f-1cbea87463bd"
      },
      "execution_count": null,
      "outputs": [
        {
          "output_type": "execute_result",
          "data": {
            "text/plain": [
              "1.0"
            ]
          },
          "metadata": {},
          "execution_count": 16
        }
      ]
    },
    {
      "cell_type": "code",
      "source": [
        "for i in range(30):\n",
        "  a = SelfCheckGPT(data[i]['summary'][0], data[i]['reference_summary'])\n",
        "  b = Meteor_Hallucination(data[i]['summary'][0], data[i]['reference_summary'])\n",
        "  c = Hallucination_Score(data[i]['summary'][0], data[i]['reference_summary'])\n"
      ],
      "metadata": {
        "id": "fiIh0mkf-CvW"
      },
      "execution_count": null,
      "outputs": []
    },
    {
      "cell_type": "code",
      "source": [
        "self_check = []\n",
        "met_hal = []\n",
        "hal_score = []\n",
        "for i in range(30):\n",
        "  data[i]['SelfCheckGPT'] = SelfCheckGPT(data[i]['summary'][0], data[i]['reference_summary'])\n",
        "  self_check.append(data[i]['SelfCheckGPT'])\n",
        "  data[i]['Meteor_Hallucination'] = Meteor_Hallucination(data[i]['summary'][0], data[i]['reference_summary'])\n",
        "  met_hal.append(data[i]['Meteor_Hallucination'])\n",
        "  data[i]['Hallucination_Score'] = Hallucination_Score(data[i]['summary'][0], data[i]['reference_summary'])\n",
        "  hal_score.append(data[i]['Hallucination_Score'])"
      ],
      "metadata": {
        "id": "rLTljZpIDiwh"
      },
      "execution_count": null,
      "outputs": []
    },
    {
      "cell_type": "code",
      "source": [
        "self_check"
      ],
      "metadata": {
        "colab": {
          "base_uri": "https://localhost:8080/"
        },
        "id": "cM4TFWBXIAZ3",
        "outputId": "65cb945e-228e-458d-f0cc-b36f341d52aa"
      },
      "execution_count": null,
      "outputs": [
        {
          "output_type": "execute_result",
          "data": {
            "text/plain": [
              "[1.0086725987493992,\n",
              " 0.6306819319725037,\n",
              " 0.8473836311272213,\n",
              " 0.9689824916422367,\n",
              " 0.8286270946264267,\n",
              " 0.8634861260652542,\n",
              " 0.8167059421539307,\n",
              " 1.0298785604536533,\n",
              " 0.9480634711217135,\n",
              " 0.8298783525824547,\n",
              " 0.7511541396379471,\n",
              " 1.2414914419253666,\n",
              " 0.8612864588697752,\n",
              " 0.7805741131305695,\n",
              " 0.8524574087932706,\n",
              " 1.029216205701232,\n",
              " 0.9649914093315601,\n",
              " 0.8039848729968071,\n",
              " 0.9501546304672956,\n",
              " 0.9638310937443748,\n",
              " 0.7770094759762287,\n",
              " 1.1306889951229095,\n",
              " 1.379640281200409,\n",
              " 0.8544065058231354,\n",
              " 1.0599774979054928,\n",
              " 0.8988504702380548,\n",
              " 0.7727480456233025,\n",
              " 0.9116519466042519,\n",
              " 0.8535107132047415,\n",
              " 0.9406684376299381]"
            ]
          },
          "metadata": {},
          "execution_count": 21
        }
      ]
    },
    {
      "cell_type": "code",
      "source": [
        "met_hal"
      ],
      "metadata": {
        "colab": {
          "base_uri": "https://localhost:8080/"
        },
        "id": "ORM-x82FJ1Lt",
        "outputId": "91f5d8c8-b33b-4c96-e408-84049253c72f"
      },
      "execution_count": null,
      "outputs": [
        {
          "output_type": "execute_result",
          "data": {
            "text/plain": [
              "[1.0,\n",
              " 0.9117647058823529,\n",
              " 0.9800796812749004,\n",
              " 1.0,\n",
              " 1.0,\n",
              " 0.9673202614379085,\n",
              " 0.9438202247191011,\n",
              " 0.954954954954955,\n",
              " 1.0,\n",
              " 1.0,\n",
              " 0.8818897637795275,\n",
              " 1.0,\n",
              " 0.96,\n",
              " 1.0,\n",
              " 1.0,\n",
              " 1.0,\n",
              " 0.9621212121212122,\n",
              " 0.9148936170212766,\n",
              " 0.8838383838383839,\n",
              " 1.0,\n",
              " 0.9056603773584906,\n",
              " 1.0,\n",
              " 1.0,\n",
              " 1.0,\n",
              " 1.0,\n",
              " 0.8792207792207792,\n",
              " 0.9576271186440678,\n",
              " 1.0,\n",
              " 0.8196428571428571,\n",
              " 1.0]"
            ]
          },
          "metadata": {},
          "execution_count": 22
        }
      ]
    },
    {
      "cell_type": "code",
      "source": [
        "hal_score"
      ],
      "metadata": {
        "colab": {
          "base_uri": "https://localhost:8080/"
        },
        "id": "WvN0vKGjJ3bd",
        "outputId": "83c9cd38-a721-4242-9884-0e4e854c10af"
      },
      "execution_count": null,
      "outputs": [
        {
          "output_type": "execute_result",
          "data": {
            "text/plain": [
              "[1.0,\n",
              " 0.9752066115702479,\n",
              " 1.0,\n",
              " 1.0,\n",
              " 1.0,\n",
              " 0.9777777777777777,\n",
              " 0.9411764705882353,\n",
              " 0.9166666666666666,\n",
              " 1.0,\n",
              " 1.0,\n",
              " 0.9333333333333333,\n",
              " 1.0,\n",
              " 1.0,\n",
              " 1.0,\n",
              " 1.0,\n",
              " 1.0,\n",
              " 1.0,\n",
              " 0.9571428571428572,\n",
              " 0.9090909090909091,\n",
              " 1.0,\n",
              " 0.9387755102040817,\n",
              " 1.0,\n",
              " 1.0,\n",
              " 1.0,\n",
              " 1.0,\n",
              " 0.9347826086956522,\n",
              " 0.9803921568627451,\n",
              " 1.0,\n",
              " 0.9487179487179487,\n",
              " 1.0]"
            ]
          },
          "metadata": {},
          "execution_count": 23
        }
      ]
    },
    {
      "cell_type": "code",
      "source": [
        "with open(\"/content/drive/MyDrive/Capstone project/Ethics/llama_final_stats.pkl\", \"wb\") as file:\n",
        "    pickle.dump(data, file)"
      ],
      "metadata": {
        "id": "n0Tt6FEBJ5a2"
      },
      "execution_count": null,
      "outputs": []
    },
    {
      "cell_type": "code",
      "source": [],
      "metadata": {
        "id": "-Swwo7JUlLip"
      },
      "execution_count": null,
      "outputs": []
    }
  ]
}