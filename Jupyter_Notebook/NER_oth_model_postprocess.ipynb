{
  "nbformat": 4,
  "nbformat_minor": 0,
  "metadata": {
    "colab": {
      "provenance": []
    },
    "kernelspec": {
      "name": "python3",
      "display_name": "Python 3"
    },
    "language_info": {
      "name": "python"
    }
  },
  "cells": [
    {
      "cell_type": "code",
      "execution_count": null,
      "metadata": {
        "id": "K3tGqQ-XTq4J"
      },
      "outputs": [],
      "source": [
        "import pandas as pd\n",
        "df = pd.read_excel('mistral_op.xlsx')\n",
        "# Assuming df is your dataframe and 'Abstract Number' is the column you want to fill down.\n",
        "df['Abstract Number'] = df['Abstract Number'].fillna(method='ffill')"
      ]
    },
    {
      "cell_type": "code",
      "source": [
        "# List of strings to search for\n",
        "search_strings = [\"Modifier\", \"Specific Disease\", \"Specific Diseases\",\n",
        "                  \"SpecificDisease\", \"DiseaseClass\", \"Disease Classes\", \"Disease Class\", \"Specific disease\"]\n",
        "\n",
        "# Function to extract and remove the specified strings from 'Model Output'\n",
        "def extract_and_remove_strings(row):\n",
        "    entity_class = None\n",
        "    model_output = str(row['Model_output'])\n",
        "\n",
        "    for string in search_strings:\n",
        "        if string in model_output:\n",
        "            entity_class = string\n",
        "            model_output = model_output.replace(string, '').strip()\n",
        "            break\n",
        "\n",
        "    return pd.Series([model_output, entity_class])\n",
        "\n",
        "# Apply the function to each row and create new columns\n",
        "df[['Model_output', 'Entity_class']] = df.apply(extract_and_remove_strings, axis=1)"
      ],
      "metadata": {
        "id": "mcGtjVgIXw2I"
      },
      "execution_count": null,
      "outputs": []
    },
    {
      "cell_type": "code",
      "source": [
        "# Assuming 'df' is your DataFrame and 'Model Output' is the column from which you want to remove the pattern\n",
        "df['Model_output'] = df['Model_output'].replace(to_replace=r'^\\d+\\.', value='', regex=True)\n",
        "\n",
        "# Assuming 'df' is your DataFrame and the column to modify is 'Model_output'\n",
        "df['Model_output'] = df['Model_output'].str.replace(r'^Entities:', '', regex=True)\n",
        "\n",
        "# Assuming 'df' is your DataFrame and the column to check is 'Model_output'\n",
        "df = df[df['Model_output'].astype(str) != 'nan']\n",
        "\n",
        "df['Model_output'] = df['Model_output'].str.rstrip('-')\n",
        "\n",
        "# Assuming 'df' is your DataFrame and the column to modify is 'Model_output'\n",
        "df['Model_output'] = df['Model_output'].str.replace(r'Category:$', '', regex=True, case=True)\n",
        "\n",
        "# Assuming 'df' is your DataFrame and the column to modify is 'Model_output'\n",
        "df['Model_output'] = df['Model_output'].str.replace('[-:\"]', '', regex=True)"
      ],
      "metadata": {
        "colab": {
          "base_uri": "https://localhost:8080/"
        },
        "id": "RaqSCEWjQEh1",
        "outputId": "965e0362-5204-4d80-f344-2d76a72e0cfe"
      },
      "execution_count": null,
      "outputs": [
        {
          "output_type": "stream",
          "name": "stderr",
          "text": [
            "<ipython-input-8-e6666014d6e3>:10: SettingWithCopyWarning: \n",
            "A value is trying to be set on a copy of a slice from a DataFrame.\n",
            "Try using .loc[row_indexer,col_indexer] = value instead\n",
            "\n",
            "See the caveats in the documentation: https://pandas.pydata.org/pandas-docs/stable/user_guide/indexing.html#returning-a-view-versus-a-copy\n",
            "  df['Model_output'] = df['Model_output'].str.rstrip('-')\n",
            "<ipython-input-8-e6666014d6e3>:13: SettingWithCopyWarning: \n",
            "A value is trying to be set on a copy of a slice from a DataFrame.\n",
            "Try using .loc[row_indexer,col_indexer] = value instead\n",
            "\n",
            "See the caveats in the documentation: https://pandas.pydata.org/pandas-docs/stable/user_guide/indexing.html#returning-a-view-versus-a-copy\n",
            "  df['Model_output'] = df['Model_output'].str.replace(r'Category:$', '', regex=True, case=True)\n",
            "<ipython-input-8-e6666014d6e3>:16: SettingWithCopyWarning: \n",
            "A value is trying to be set on a copy of a slice from a DataFrame.\n",
            "Try using .loc[row_indexer,col_indexer] = value instead\n",
            "\n",
            "See the caveats in the documentation: https://pandas.pydata.org/pandas-docs/stable/user_guide/indexing.html#returning-a-view-versus-a-copy\n",
            "  df['Model_output'] = df['Model_output'].str.replace('[-:\"]', '', regex=True)\n"
          ]
        }
      ]
    },
    {
      "cell_type": "code",
      "source": [
        "# Assuming 'df' is your DataFrame and 'Model_output' is the column from which you want to remove trailing commas\n",
        "df['Model_output'] = df['Model_output'].str.rstrip(',')"
      ],
      "metadata": {
        "id": "AGzsuiDoro8O"
      },
      "execution_count": null,
      "outputs": []
    },
    {
      "cell_type": "code",
      "source": [
        "df.to_excel(\"mistral_ans.xlsx\", index=False)"
      ],
      "metadata": {
        "id": "nmL3OT1QS9Fa"
      },
      "execution_count": null,
      "outputs": []
    },
    {
      "cell_type": "code",
      "source": [],
      "metadata": {
        "id": "fP7hXukMS9oy"
      },
      "execution_count": null,
      "outputs": []
    }
  ]
}